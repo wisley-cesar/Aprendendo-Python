{
 "cells": [
  {
   "cell_type": "code",
   "execution_count": 7,
   "metadata": {},
   "outputs": [
    {
     "name": "stdout",
     "output_type": "stream",
     "text": [
      "o valor e diferente \n"
     ]
    }
   ],
   "source": [
    "faturamento = int(input(\"Digite o valor\"))\n",
    "faturamento2 = int(input(\"Digite o valor \"))\n",
    "gmail = \"wisley@gmail.com\"\n",
    "\n",
    "if faturamento == faturamento2 :\n",
    "    print('O valor e igual')\n",
    "else :\n",
    "    print(\"o valor e diferente \")\n"
   ]
  },
  {
   "cell_type": "code",
   "execution_count": 14,
   "metadata": {},
   "outputs": [
    {
     "name": "stdout",
     "output_type": "stream",
     "text": [
      "esse emagil esta errado\n"
     ]
    }
   ],
   "source": [
    "gmail_errado  = \"wisleygmail.com\"\n",
    "if gmail_errado != gmail:\n",
    "    print ('esse emagil esta errado')\n",
    "else :\n",
    "    print(\"esse gmail esta correto\")\n"
   ]
  },
  {
   "cell_type": "code",
   "execution_count": 20,
   "metadata": {},
   "outputs": [
    {
     "name": "stdout",
     "output_type": "stream",
     "text": [
      "esse email e invalido \n"
     ]
    }
   ],
   "source": [
    "email_usuario = input('insira o seu email')\n",
    "\n",
    "if not '@' + '.com' in email_usuario :\n",
    "\n",
    "    print('esse email e invalido ')\n",
    "else : \n",
    "    print('email e valido')"
   ]
  },
  {
   "cell_type": "code",
   "execution_count": 24,
   "metadata": {},
   "outputs": [],
   "source": [
    "email_usuario = input('insira o seu email')\n",
    "if not '@' + '.com' in email_usuario :\n",
    "    print('email invalido')\n",
    "else :\n",
    "    pass"
   ]
  }
 ],
 "metadata": {
  "kernelspec": {
   "display_name": "Python 3",
   "language": "python",
   "name": "python3"
  },
  "language_info": {
   "codemirror_mode": {
    "name": "ipython",
    "version": 3
   },
   "file_extension": ".py",
   "mimetype": "text/x-python",
   "name": "python",
   "nbconvert_exporter": "python",
   "pygments_lexer": "ipython3",
   "version": "3.10.10"
  },
  "orig_nbformat": 4
 },
 "nbformat": 4,
 "nbformat_minor": 2
}
