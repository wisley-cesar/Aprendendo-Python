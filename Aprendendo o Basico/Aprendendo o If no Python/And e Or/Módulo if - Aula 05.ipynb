{
 "cells": [
  {
   "cell_type": "markdown",
   "metadata": {},
   "source": [
    "# Casos com várias condições/comparações\n",
    "\n",
    "### Estrutura:\n",
    "\n",
    "Quando temos várias comparações, ao invés de criar if dentro de if podemos usar os operadores \"and\" e \"or\" para tratar essas condições.\n",
    "\n",
    "Funciona assim:"
   ]
  },
  {
   "cell_type": "raw",
   "metadata": {},
   "source": [
    "if condicao_1 and condicao_2:\n",
    "    vai ser executado se as 2 condições forem verdadeiras ao mesmo tempo\n",
    "\n",
    "outro caso:\n",
    "\n",
    "if condicao_1 or condicao_2:\n",
    "    vai ser executado se pelo menos uma das condições forem verdadeiras"
   ]
  },
  {
   "cell_type": "markdown",
   "metadata": {},
   "source": [
    "### Exemplo\n",
    "\n",
    "Vamos voltar ao exemplo de cálculo de meta de vendas dos funcionários. Muitas empresas atribuem bonificação do salário dos funcionários de acordo com o resultado do funcionário e também com o resultado da empresa como um todo.\n",
    "\n",
    "Nesse caso, a regra funciona da seguinte forma:\n",
    "- Se o funcionário vendeu mais do que a meta de vendas e a loja bateu a meta de vendas da loja, o funcionário ganha 3% do que ele vendeu em forma de bônus.\n",
    "- Caso o funcionário tenha batido a meta de vendas individual dele, mas a loja não tenha batido a meta de vendas da loja como um todo, o funcionário não ganha bônus."
   ]
  },
  {
   "cell_type": "code",
   "execution_count": 21,
   "metadata": {},
   "outputs": [
    {
     "name": "stdout",
     "output_type": "stream",
     "text": [
      "infelizmente voce nao tera bonus esse mes\n"
     ]
    }
   ],
   "source": [
    "meta = 50000\n",
    "meta_loja = 100000\n",
    "Valor_vendas_funcionario = int(input(\"Digite o valor de vendas que voce fez\"))\n",
    "Valor_vendas_funcionario = int(input(\"Digite o valor total vendido da loja \"))\n",
    "\n",
    "if Valor_vendas_funcionario >= meta and Valor_vendas_total_loja + Valor_vendas_funcionario >= meta_loja:\n",
    "    bonus = Valor_vendas_funcionario * 0.03\n",
    "    print(f'Seu bonus foi de {bonus} Reais !')\n",
    "\n",
    "else :\n",
    "    print('infelizmente voce nao tera bonus esse mes')\n",
    "\n",
    "\n",
    "    "
   ]
  },
  {
   "cell_type": "markdown",
   "metadata": {},
   "source": [
    "### Outro exemplo\n",
    "\n",
    "Agora vamos levar essa análise mais a fundo.\n",
    "\n",
    "Nessa empresa, existe um outro caso também que garante que o funcionário ganhe um bônus, independente das vendas que ele fez naquele mês.\n",
    "\n",
    "Todo mês os diretores da empresa fazem uma avaliação qualitativa de todos os funcionários. Nessa avaliação os diretores dão uma nota de 0 a 10 para cada funcionário. Se a nota do funcionário for 9 ou 10, ele também ganha o bônus de 3% do valor de vendas. (os bônus não são cumulativos)"
   ]
  },
  {
   "cell_type": "code",
   "execution_count": 23,
   "metadata": {},
   "outputs": [
    {
     "name": "stdout",
     "output_type": "stream",
     "text": [
      "Seu bonus por  foi foi de 0.03\n"
     ]
    }
   ],
   "source": [
    "nota_funcionario = int(input('qual e a nota do funcionario'))\n",
    "meta_nota = 9\n",
    "\n",
    "if nota_funcionario >= meta_nota or Valor_vendas_funcionario >= meta and Valor_vendas_total_loja + Valor_vendas_funcionario >= meta_loja :\n",
    "    bonus = 0.03 * Valor_vendas_funcionario\n",
    "    print(f'Seu bonus por  foi foi de {bonus}')\n",
    "else :\n",
    "    print(f'voce não tem bonus')\n"
   ]
  },
  {
   "cell_type": "code",
   "execution_count": null,
   "metadata": {},
   "outputs": [],
   "source": []
  }
 ],
 "metadata": {
  "kernelspec": {
   "display_name": "Python 3",
   "language": "python",
   "name": "python3"
  },
  "language_info": {
   "codemirror_mode": {
    "name": "ipython",
    "version": 3
   },
   "file_extension": ".py",
   "mimetype": "text/x-python",
   "name": "python",
   "nbconvert_exporter": "python",
   "pygments_lexer": "ipython3",
   "version": "3.10.10"
  }
 },
 "nbformat": 4,
 "nbformat_minor": 4
}
