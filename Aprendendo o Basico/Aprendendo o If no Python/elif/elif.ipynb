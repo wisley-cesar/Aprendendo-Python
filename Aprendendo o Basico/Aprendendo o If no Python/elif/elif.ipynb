{
 "cells": [
  {
   "cell_type": "code",
   "execution_count": 3,
   "metadata": {},
   "outputs": [
    {
     "name": "stdout",
     "output_type": "stream",
     "text": [
      "Parabens Pelas Vendas O Seu Bonus Foi De 2940.0000000000005 Reais\n"
     ]
    }
   ],
   "source": [
    "metas = 20000\n",
    "valor_vendas = float(input('digite o valor da suas vendas!'))\n",
    "\n",
    "if metas > valor_vendas :\n",
    "    bonus = 0\n",
    "    print('Infelizmente voce não terá bonus')\n",
    "\n",
    "\n",
    "elif valor_vendas > (2 * metas):\n",
    "    bonus = 0.07 * valor_vendas\n",
    "    print('Parabens Pelas Vendas O Seu Bonus Foi De {} Reais'.format(bonus))\n",
    "\n",
    "    \n",
    "else :\n",
    "    bonus = 0.03 * valor_vendas\n",
    "    print('Muito Bem! Seu Bonus Foi De {} Reias'.format(bonus))\n",
    "\n"
   ]
  }
 ],
 "metadata": {
  "kernelspec": {
   "display_name": "Python 3",
   "language": "python",
   "name": "python3"
  },
  "language_info": {
   "codemirror_mode": {
    "name": "ipython",
    "version": 3
   },
   "file_extension": ".py",
   "mimetype": "text/x-python",
   "name": "python",
   "nbconvert_exporter": "python",
   "pygments_lexer": "ipython3",
   "version": "3.10.10"
  },
  "orig_nbformat": 4,
  "vscode": {
   "interpreter": {
    "hash": "63d2fd587fa4181fc5553af31df89262a8a4bc207f39d6f90a2c67455bc4c762"
   }
  }
 },
 "nbformat": 4,
 "nbformat_minor": 2
}
