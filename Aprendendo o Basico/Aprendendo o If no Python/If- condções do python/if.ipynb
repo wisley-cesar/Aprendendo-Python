{
 "cells": [
  {
   "cell_type": "code",
   "execution_count": 2,
   "metadata": {},
   "outputs": [
    {
     "name": "stdout",
     "output_type": "stream",
     "text": [
      "Batemos a meta de vendas de Iphone, vendemos 50000 unidades\n"
     ]
    }
   ],
   "source": [
    "meta = 50000\n",
    "qtd_vendas = int(input('Quantas unidades foram vendidas?'))\n",
    "\n",
    "if qtd_vendas >= meta:\n",
    "    print(f'Batemos a meta de vendas de Iphone, vendemos {qtd_vendas} unidades')\n",
    "else:\n",
    "    print(f'Infelizmente não batemos a nossa meta que era de {meta}, vendemos apenas {qtd_vendas} unidades')"
   ]
  }
 ],
 "metadata": {
  "kernelspec": {
   "display_name": "Python 3",
   "language": "python",
   "name": "python3"
  },
  "language_info": {
   "codemirror_mode": {
    "name": "ipython",
    "version": 3
   },
   "file_extension": ".py",
   "mimetype": "text/x-python",
   "name": "python",
   "nbconvert_exporter": "python",
   "pygments_lexer": "ipython3",
   "version": "3.10.10"
  },
  "orig_nbformat": 4,
  "vscode": {
   "interpreter": {
    "hash": "63d2fd587fa4181fc5553af31df89262a8a4bc207f39d6f90a2c67455bc4c762"
   }
  }
 },
 "nbformat": 4,
 "nbformat_minor": 2
}
