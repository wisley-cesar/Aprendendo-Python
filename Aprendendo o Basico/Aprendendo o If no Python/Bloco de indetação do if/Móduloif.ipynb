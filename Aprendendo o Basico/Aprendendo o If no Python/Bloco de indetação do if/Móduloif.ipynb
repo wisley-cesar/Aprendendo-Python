{
 "cells": [
  {
   "cell_type": "code",
   "execution_count": 7,
   "metadata": {},
   "outputs": [
    {
     "name": "stdout",
     "output_type": "stream",
     "text": [
      "Sua taxa e de 0.04\n"
     ]
    }
   ],
   "source": [
    "redimento = float(input('digite o seu rendimento'))\n",
    "taxa = 0 \n",
    "meta = 0.05\n",
    "\n",
    "if redimento > meta:\n",
    "    if redimento > 0.20:\n",
    "        taxa = 0.04\n",
    "        print(f\"Sua taxa e de {taxa}\")\n",
    "    else :\n",
    "        taxa = 0.02\n",
    "        print(f\"sua taxa e de {taxa}\")\n",
    "\n",
    "else : \n",
    "    taxa = 0 \n",
    "    print(f\"sua taxa e de {taxa}\")"
   ]
  }
 ],
 "metadata": {
  "kernelspec": {
   "display_name": "Python 3",
   "language": "python",
   "name": "python3"
  },
  "language_info": {
   "codemirror_mode": {
    "name": "ipython",
    "version": 3
   },
   "file_extension": ".py",
   "mimetype": "text/x-python",
   "name": "python",
   "nbconvert_exporter": "python",
   "pygments_lexer": "ipython3",
   "version": "3.10.10"
  },
  "orig_nbformat": 4,
  "vscode": {
   "interpreter": {
    "hash": "63d2fd587fa4181fc5553af31df89262a8a4bc207f39d6f90a2c67455bc4c762"
   }
  }
 },
 "nbformat": 4,
 "nbformat_minor": 2
}
