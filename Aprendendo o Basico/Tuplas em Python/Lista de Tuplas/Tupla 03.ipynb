{
 "cells": [
  {
   "cell_type": "markdown",
   "metadata": {},
   "source": [
    "# Aplicação de Tupla - Lista de Tuplas\n",
    "\n",
    "### Estrutura:\n",
    "\n",
    "Além de casos como o do enumerate, em que usamos uma função para transformar itens em tuplas porque isso ajuda o nosso código, temos também listas de tuplas como algo comum dentro do Python."
   ]
  },
  {
   "cell_type": "raw",
   "metadata": {},
   "source": [
    "lista = [\n",
    "    tupla1,\n",
    "    tupla2,\n",
    "    tupla3,\n",
    "    ]\n",
    "    \n",
    "ou seja\n",
    "\n",
    "lista = [\n",
    "    (valor1, valor2, valor3),\n",
    "    (valor4, valor5, valor6),\n",
    "    (valor7, valor8, valor9),\n",
    "    ]"
   ]
  },
  {
   "cell_type": "markdown",
   "metadata": {},
   "source": [
    "### Exemplo:\n",
    "\n",
    "Digamos que você está analisando as vendas do Banco de Dados de um e-commerce.\n",
    "\n",
    "Em um determinado dia, você extraiu as vendas do Banco de Dados e elas vieram nesse formato:"
   ]
  },
  {
   "cell_type": "code",
   "execution_count": 6,
   "metadata": {},
   "outputs": [],
   "source": [
    "vendas = [\n",
    "    ('20/08/2020', 'iphone x', 'azul', '128gb', 350, 4000),\n",
    "    ('20/08/2020', 'iphone x', 'prata', '128gb', 1500, 4000),\n",
    "    ('20/08/2020', 'ipad', 'prata', '256gb', 127, 6000),\n",
    "    ('20/08/2020', 'ipad', 'prata', '128gb', 981, 5000),\n",
    "    ('21/08/2020', 'iphone x', 'azul', '128gb', 397, 4000),\n",
    "    ('21/08/2020', 'iphone x', 'prata', '128gb', 1017, 4000),\n",
    "    ('21/08/2020', 'ipad', 'prata', '256gb', 50, 6000),\n",
    "    ('21/08/2020', 'ipad', 'prata', '128gb', 4000, 5000),\n",
    "]"
   ]
  },
  {
   "cell_type": "markdown",
   "metadata": {},
   "source": [
    "- Qual foi o faturamento de IPhone no dia 20/08/2020?\n",
    "- Qual foi o produto mais vendido (em unidades) no dia 21/08/2020?"
   ]
  },
  {
   "cell_type": "code",
   "execution_count": 54,
   "metadata": {},
   "outputs": [
    {
     "name": "stdout",
     "output_type": "stream",
     "text": [
      "O faruramento do dia 21/08/2020 do Iphone x foi de R$ 7,400,000.00\n"
     ]
    }
   ],
   "source": [
    "faturamento_vendas = 0 \n",
    "for item in vendas:\n",
    "    data, produto, cor, capacidade, unidades_vendidas, valor_unitario = item # aqui a gente usou o metodo unpacking para colocar um nome intuitivo para cada intem da tupla na lista de indece 0 \n",
    "    if produto == 'iphone x' and data == '20/08/2020':  #verificamos se o produto e a data era a que queriamos \n",
    "        faturamento_vendas += valor_unitario * unidades_vendidas # calculamos o faramento \n",
    "        \n",
    "print(f'O faruramento do dia {data} do Iphone x foi de R$ {faturamento_vendas:,.2f}') # pritamos o faturamento \n"
   ]
  },
  {
   "cell_type": "code",
   "execution_count": null,
   "metadata": {},
   "outputs": [],
   "source": [
    "faturamento_vendas = vendas[0][4] * vendas[0][5]\n",
    "\n",
    "print(f'O faturamendo do dia {vendas[0][0]} do {vendas[0][1]} foi de R${faturamento_vendas:,.2f}')"
   ]
  }
 ],
 "metadata": {
  "kernelspec": {
   "display_name": "Python 3",
   "language": "python",
   "name": "python3"
  },
  "language_info": {
   "codemirror_mode": {
    "name": "ipython",
    "version": 3
   },
   "file_extension": ".py",
   "mimetype": "text/x-python",
   "name": "python",
   "nbconvert_exporter": "python",
   "pygments_lexer": "ipython3",
   "version": "3.11.4"
  }
 },
 "nbformat": 4,
 "nbformat_minor": 4
}
