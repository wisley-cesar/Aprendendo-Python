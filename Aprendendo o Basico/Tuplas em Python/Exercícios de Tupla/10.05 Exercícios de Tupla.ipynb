{
 "cells": [
  {
   "cell_type": "markdown",
   "metadata": {},
   "source": [
    "# Exercícios\n",
    "\n",
    "São exercícios bem parecidos com os que fizemos com listas. Mas na tupla, podemos não só trabalhar com índices, mas fazer o \"unpacking\" das tuplas, o que pode facilitar nossos códigos.\n",
    "\n",
    "## 1. Análise de Vendas\n",
    "\n",
    "Nesse exercício vamos fazer uma \"análise simples\" de atingimento de Meta.\n",
    "\n",
    "Temos uma lista com os vendedores e os valores de vendas e queremos identificar (printar) quais os vendedores que bateram a meta e qual foi o valor que eles venderam."
   ]
  },
  {
   "cell_type": "code",
   "execution_count": 6,
   "metadata": {},
   "outputs": [
    {
     "name": "stdout",
     "output_type": "stream",
     "text": [
      "O funcionario João bateu a meta. Vendeu o total de R$15,000.00\n",
      "O funcionario Julia bateu a meta. Vendeu o total de R$27,000.00\n",
      "O funcionario Ana bateu a meta. Vendeu o total de R$10,300.00\n"
     ]
    }
   ],
   "source": [
    "meta = 10000\n",
    "vendas = [\n",
    "    ('João', 15000),\n",
    "    ('Julia', 27000),\n",
    "    ('Marcus', 9900),\n",
    "    ('Maria', 3750),\n",
    "    ('Ana', 10300),\n",
    "    ('Alon', 7870),\n",
    "]\n",
    "\n",
    "\n",
    "for nome_funcionario, venda_funcionario in vendas:\n",
    "    if venda_funcionario > meta:\n",
    "        print(f'O funcionario {nome_funcionario} bateu a meta. Vendeu o total de R${venda_funcionario:,.2f}')\n"
   ]
  },
  {
   "cell_type": "markdown",
   "metadata": {},
   "source": [
    "## 2. Comparação com Ano Anterior\n",
    "\n",
    "Digamos que você está analisando as vendas de produtos de um ecommerce e quer identificar quais produtos tiveram no ano de 2020 mais vendas do que no ano de 2019, para reportar isso para a diretoria.\n",
    "\n",
    "Sua resposta pode ser um print de cada produto, qual foi a venda de 2019, a venda de 2020 e o % de crescimento de 2020 para 2019.\n",
    "\n",
    "Lembrando, para calcular o % de crescimento de um produto de um ano para o outro, podemos fazer: (vendas_produto2020/vendas_produto2019 - 1)\n",
    "\n",
    "A lógica da tupla é: (produto, vendas2019, vendas2020)"
   ]
  },
  {
   "cell_type": "code",
   "execution_count": 19,
   "metadata": {},
   "outputs": [
    {
     "name": "stdout",
     "output_type": "stream",
     "text": [
      "Em 2019 vendemos de 558147 de iphone, já no ano de 2020 vendemos de 951642 de iphone o valor de acresimo que foi arrecardado foi de 70.5%\n",
      "\n",
      "Em 2019 vendemos de 405252 de tv, já no ano de 2020 vendemos de 787604 de tv o valor de acresimo que foi arrecardado foi de 94.3%\n",
      "\n",
      "Em 2019 vendemos de 718654 de máquina de café, já no ano de 2020 vendemos de 867660 de máquina de café o valor de acresimo que foi arrecardado foi de 20.7%\n",
      "\n",
      "Em 2019 vendemos de 422760 de notebook dell, já no ano de 2020 vendemos de 694913 de notebook dell o valor de acresimo que foi arrecardado foi de 64.4%\n",
      "\n",
      "Em 2019 vendemos de 154753 de notebook hp, já no ano de 2020 vendemos de 539704 de notebook hp o valor de acresimo que foi arrecardado foi de 248.8%\n",
      "\n",
      "Em 2019 vendemos de 438508 de microsoft surface, já no ano de 2020 vendemos de 667179 de microsoft surface o valor de acresimo que foi arrecardado foi de 52.1%\n",
      "\n",
      "Em 2019 vendemos de 237467 de webcam, já no ano de 2020 vendemos de 295633 de webcam o valor de acresimo que foi arrecardado foi de 24.5%\n",
      "\n",
      "Em 2019 vendemos de 489705 de caixa de som, já no ano de 2020 vendemos de 725316 de caixa de som o valor de acresimo que foi arrecardado foi de 48.1%\n",
      "\n",
      "Em 2019 vendemos de 328311 de microfone, já no ano de 2020 vendemos de 644622 de microfone o valor de acresimo que foi arrecardado foi de 96.3%\n",
      "\n",
      "Em 2019 vendemos de 591120 de câmera canon, já no ano de 2020 vendemos de 994303 de câmera canon o valor de acresimo que foi arrecardado foi de 68.2%\n",
      "\n"
     ]
    }
   ],
   "source": [
    "vendas_produtos = [('iphone', 558147, 951642), ('galaxy', 712350, 244295), ('ipad', 573823, 26964), ('tv', 405252, 787604), ('máquina de café', 718654, 867660), ('kindle', 531580, 78830), ('geladeira', 973139, 710331), ('adega', 892292, 646016), ('notebook dell', 422760, 694913), ('notebook hp', 154753, 539704), ('notebook asus', 887061, 324831), ('microsoft surface', 438508, 667179), ('webcam', 237467, 295633), ('caixa de som', 489705, 725316), ('microfone', 328311, 644622), ('câmera canon', 591120, 994303)]\n",
    "cresimento = 0\n",
    "#seu código aqui\n",
    "for produto, vendas2019, vendas2020 in vendas_produtos:\n",
    "    if vendas2020 > vendas2019:\n",
    "        cresimento = (vendas2020/vendas2019-1)\n",
    "        print(f'Em 2019 vendemos de {vendas2019} de {produto}, já no ano de 2020 vendemos de {vendas2020} de {produto} o valor de acresimo que foi arrecardado foi de {cresimento:.1%}\\n')\n"
   ]
  }
 ],
 "metadata": {
  "kernelspec": {
   "display_name": "Python 3",
   "language": "python",
   "name": "python3"
  },
  "language_info": {
   "codemirror_mode": {
    "name": "ipython",
    "version": 3
   },
   "file_extension": ".py",
   "mimetype": "text/x-python",
   "name": "python",
   "nbconvert_exporter": "python",
   "pygments_lexer": "ipython3",
   "version": "3.11.4"
  }
 },
 "nbformat": 4,
 "nbformat_minor": 4
}
