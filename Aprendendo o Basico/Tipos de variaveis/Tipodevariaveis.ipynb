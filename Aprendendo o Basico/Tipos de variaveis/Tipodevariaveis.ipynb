{
 "cells": [
  {
   "cell_type": "code",
   "execution_count": 5,
   "metadata": {},
   "outputs": [
    {
     "name": "stdout",
     "output_type": "stream",
     "text": [
      "O faturamento da loja foi 1000 Reais\n",
      "O custo da lojo foi de 500 Reais\n",
      "Entao, o lucro da loja foi de 500 Reais\n"
     ]
    }
   ],
   "source": [
    "#A concatenacao so pode ser feita de str para str \n",
    "faturamento = 1000\n",
    "custo = 500\n",
    "lucro = faturamento - custo\n",
    "print('O faturamento da loja foi '+ str(faturamento) + ' Reais')\n",
    "print('O custo da lojo foi de '+ str(custo) + ' Reais')\n",
    "print('Entao, o lucro da loja foi de ' + str(lucro) + ' Reais')"
   ]
  },
  {
   "cell_type": "code",
   "execution_count": 9,
   "metadata": {},
   "outputs": [
    {
     "name": "stdout",
     "output_type": "stream",
     "text": [
      "O faturamento e de 1000 Reais\n",
      "O custo foi de 500 Reias\n",
      "Assim o lucro e 500 Reais\n"
     ]
    }
   ],
   "source": [
    "faturamento = 1000\n",
    "custo = 500\n",
    "lucro = faturamento - custo\n",
    "print('O faturamento e de ' + str(faturamento) +  ' Reais' + '\\nO custo foi de ' + str(custo) + ' Reias' + '\\nAssim o lucro e ' + str(lucro) +  ' Reais')"
   ]
  }
 ],
 "metadata": {
  "kernelspec": {
   "display_name": "Python 3",
   "language": "python",
   "name": "python3"
  },
  "language_info": {
   "codemirror_mode": {
    "name": "ipython",
    "version": 3
   },
   "file_extension": ".py",
   "mimetype": "text/x-python",
   "name": "python",
   "nbconvert_exporter": "python",
   "pygments_lexer": "ipython3",
   "version": "3.10.10"
  },
  "orig_nbformat": 4,
  "vscode": {
   "interpreter": {
    "hash": "63d2fd587fa4181fc5553af31df89262a8a4bc207f39d6f90a2c67455bc4c762"
   }
  }
 },
 "nbformat": 4,
 "nbformat_minor": 2
}
