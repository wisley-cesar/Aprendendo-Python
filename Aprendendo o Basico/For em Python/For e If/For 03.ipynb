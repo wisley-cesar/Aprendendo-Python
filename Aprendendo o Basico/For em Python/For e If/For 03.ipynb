{
 "cells": [
  {
   "cell_type": "markdown",
   "metadata": {},
   "source": [
    "# for + if\n",
    "\n",
    "### Estrutura:"
   ]
  },
  {
   "cell_type": "raw",
   "metadata": {},
   "source": [
    "for item in lista:\n",
    "    if condicao:\n",
    "        faça alguma coisa\n",
    "    else:\n",
    "        outra coisa"
   ]
  },
  {
   "cell_type": "markdown",
   "metadata": {},
   "source": [
    "Digamos que a gente esteja analisando a meta de vendas de vários funcionários de uma empresa. A meta de vendas é de 1000 reais em 1 dia.\n",
    "\n",
    "Temos uma lista com as vendas de todos os funcionários e quero calcular qual o % de pessoas que bateram a meta."
   ]
  },
  {
   "cell_type": "code",
   "execution_count": 46,
   "metadata": {},
   "outputs": [
    {
     "name": "stdout",
     "output_type": "stream",
     "text": [
      "foram 26.1%% dos funcionarios que bateram a meta.\n",
      "Foram 6 funcionario que bateram a meta diaria. \n",
      "\n"
     ]
    }
   ],
   "source": [
    "vendas = [1200, 300, 800, 1500, 1900, 2750, 400, 20, 23, 70, 90, 80, 1100, 999, 900, 880, 870, 50, 1111, 120, 300, 450, 800]\n",
    "meta = 1000\n",
    "meta_batida_qtd = 0\n",
    "for venda in vendas:# Ele vai pegar item por item na lista \n",
    "    if venda >=meta:# só vai entra no if o valor da lista que for maior que 1000\n",
    "   \n",
    "        meta_batida_qtd += 1  # cada vez que ele fizer um loop ele vai acresentar mais 1 na quatidade de pessoas que bateram a meta.\n",
    "        porcetagem_meta = (meta_batida_qtd /len(vendas) )# a conta pra gente saber qual foi a porcentagem de pessoas \n",
    "    else: # aqueles que não bateram a meta só vai passar \n",
    "        pass\n",
    "\n",
    "print(f'foram {porcetagem_meta:.1%}% dos funcionarios que bateram a meta.\\nForam {meta_batida_qtd} funcionario que bateram a meta diaria. \\n')\n",
    "        "
   ]
  },
  {
   "cell_type": "code",
   "execution_count": null,
   "metadata": {},
   "outputs": [],
   "source": []
  }
 ],
 "metadata": {
  "kernelspec": {
   "display_name": "Python 3",
   "language": "python",
   "name": "python3"
  },
  "language_info": {
   "codemirror_mode": {
    "name": "ipython",
    "version": 3
   },
   "file_extension": ".py",
   "mimetype": "text/x-python",
   "name": "python",
   "nbconvert_exporter": "python",
   "pygments_lexer": "ipython3",
   "version": "3.10.11"
  }
 },
 "nbformat": 4,
 "nbformat_minor": 4
}
