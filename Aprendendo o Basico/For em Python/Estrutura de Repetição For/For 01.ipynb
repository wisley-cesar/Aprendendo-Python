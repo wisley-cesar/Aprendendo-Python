{
 "cells": [
  {
   "cell_type": "markdown",
   "metadata": {},
   "source": [
    "# Estrutura de Repetição: for\n",
    "\n",
    "### Funcionamento:"
   ]
  },
  {
   "cell_type": "raw",
   "metadata": {},
   "source": [
    "for i in range(n):\n",
    "    repetir código n vezes"
   ]
  },
  {
   "cell_type": "code",
   "execution_count": 2,
   "metadata": {},
   "outputs": [
    {
     "name": "stdout",
     "output_type": "stream",
     "text": [
      "Wisley\n",
      "Wisley\n",
      "Wisley\n",
      "Wisley\n",
      "Wisley\n",
      "0\n",
      "1\n",
      "2\n",
      "3\n",
      "4\n"
     ]
    }
   ],
   "source": [
    "# o for é um estruta de repetição \n",
    "# ela é bem parecida com o if, usando o msm estilo de indentação \n",
    "# a leta i no for é o indece msm coisa com o i das listas\n",
    "# range é onde vamos coloar a quatidade de repetições vamos querer \n",
    "for i in range(5):\n",
    "    print(\"Wisley\")\n",
    "\n",
    "for i in range(5):\n",
    "    print(i)"
   ]
  },
  {
   "cell_type": "markdown",
   "metadata": {},
   "source": [
    "- Imagine que você está construindo uma automação para enviar todo dia por e-mail um resumo da produção de uma fábrica. Construa um código que exiba a quantidade produzida de cada os produto nesse \"e-mail\""
   ]
  },
  {
   "cell_type": "code",
   "execution_count": 14,
   "metadata": {},
   "outputs": [
    {
     "name": "stdout",
     "output_type": "stream",
     "text": [
      " Producao :coca. Unidades produzidas: 15000\n",
      " Producao :pepsi. Unidades produzidas: 12000\n",
      " Producao :guarana. Unidades produzidas: 13000\n",
      " Producao :sprite. Unidades produzidas: 5000\n",
      " Producao :fanta. Unidades produzidas: 250\n"
     ]
    }
   ],
   "source": [
    "produtos = ['coca', 'pepsi', 'guarana', 'sprite', 'fanta']\n",
    "producao = [15000, 12000, 13000, 5000, 250]\n",
    "\n",
    "tamanho = len(produtos)\n",
    "# o i é muito importante porque é com ele que vamos saber a posição correta da lista \n",
    "# Mas como vou saber o tanto de vezes que vou fazer o for reptir ?\n",
    "#      Basta você descobrir o tamanho da lista que você quer percorrer,\n",
    "#      usando o \"len(e o nome da lista )\", e coloar no \"range()\". Como mostra a baixo\n",
    "for i in range(tamanho):\n",
    "    #na primeira vez que ele executar ele vai pegar a posicao 0 de cada lista \n",
    "    #na segunda vez ele vai pegar a posição de numero 1 \n",
    "    #e assim por diante, percorrento a lista toda \n",
    "    print(f\" Producao :{produtos[i]}. Unidades produzidas: {producao[i]}\")\n"
   ]
  }
 ],
 "metadata": {
  "kernelspec": {
   "display_name": "Python 3",
   "language": "python",
   "name": "python3"
  },
  "language_info": {
   "codemirror_mode": {
    "name": "ipython",
    "version": 3
   },
   "file_extension": ".py",
   "mimetype": "text/x-python",
   "name": "python",
   "nbconvert_exporter": "python",
   "pygments_lexer": "ipython3",
   "version": "3.10.11"
  }
 },
 "nbformat": 4,
 "nbformat_minor": 4
}
