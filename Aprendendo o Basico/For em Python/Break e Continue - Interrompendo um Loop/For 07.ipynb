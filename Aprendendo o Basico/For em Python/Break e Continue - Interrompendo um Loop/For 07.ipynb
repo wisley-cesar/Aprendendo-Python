{
 "cells": [
  {
   "cell_type": "markdown",
   "metadata": {},
   "source": [
    "# Formas de interromper um for\n",
    "\n",
    "### 2 Opções:\n",
    "\n",
    "- break -> interrompe e finaliza o for\n",
    "- continue -> interrompe e vai para o próximo item do for"
   ]
  },
  {
   "cell_type": "code",
   "execution_count": 12,
   "metadata": {},
   "outputs": [],
   "source": [
    "vendas = [100, 150, 1500, 2000, 120]"
   ]
  },
  {
   "cell_type": "markdown",
   "metadata": {},
   "source": [
    "- Caso 1: Se todas as vendas forem acima da meta, a loja ganha bônus"
   ]
  },
  {
   "cell_type": "code",
   "execution_count": 16,
   "metadata": {},
   "outputs": [
    {
     "name": "stdout",
     "output_type": "stream",
     "text": [
      "100 Não bateu a meta\n"
     ]
    }
   ],
   "source": [
    "meta = 110\n",
    "\n",
    "for i, venda in enumerate(vendas):\n",
    "    if venda > meta:\n",
    "        pass # o pass ele so vai passar\n",
    "    else:\n",
    "        print(f'{vendas[i]} Não bateu a meta')\n",
    "        break # break serve para para um for \n",
    "    # quando percebemos que não tem necessidade de percorrer ele todo ou\n",
    "    # quando queremos para ele \n",
    "    "
   ]
  },
  {
   "cell_type": "markdown",
   "metadata": {},
   "source": [
    "- Caso 2: Exiba quem bateu a meta"
   ]
  },
  {
   "cell_type": "code",
   "execution_count": 26,
   "metadata": {},
   "outputs": [
    {
     "name": "stdout",
     "output_type": "stream",
     "text": [
      "Os  funcionarios que bateram a meta foi: Julia vendendo 150.\n",
      "Os  funcionarios que bateram a meta foi: Ana vendendo 1,500.\n",
      "Os  funcionarios que bateram a meta foi: José vendendo 2,000.\n"
     ]
    }
   ],
   "source": [
    "vendedores = ['João', 'Julia', 'Ana', 'José', 'Maria']\n",
    "meta = 130\n",
    "\n",
    "for i, venda in enumerate(vendas):\n",
    "    if venda < meta:\n",
    "        continue # toda vez que a venda for menor que a meta ele vai pular aquele numero e vai pedir pro for continuar !\n",
    "    #mas desconsiderando aquele numero \n",
    "    # e com se fosse: a esse numero e menor, certo , agora pegor proximo numero, esse numero n é menor, a entao esse nao entra no if ou seja ela bateu a meta \n",
    "\n",
    "    # o break sai do for \n",
    "    # o contniue pula pro proximo item \n",
    "    \n",
    "\n",
    "    print(f'Os  funcionarios que bateram a meta foi: {vendedores[i]} vendendo {vendas[i]:,}.')\n",
    "\n",
    "\n"
   ]
  },
  {
   "cell_type": "code",
   "execution_count": null,
   "metadata": {},
   "outputs": [],
   "source": []
  }
 ],
 "metadata": {
  "kernelspec": {
   "display_name": "Python 3",
   "language": "python",
   "name": "python3"
  },
  "language_info": {
   "codemirror_mode": {
    "name": "ipython",
    "version": 3
   },
   "file_extension": ".py",
   "mimetype": "text/x-python",
   "name": "python",
   "nbconvert_exporter": "python",
   "pygments_lexer": "ipython3",
   "version": "3.10.11"
  }
 },
 "nbformat": 4,
 "nbformat_minor": 4
}
