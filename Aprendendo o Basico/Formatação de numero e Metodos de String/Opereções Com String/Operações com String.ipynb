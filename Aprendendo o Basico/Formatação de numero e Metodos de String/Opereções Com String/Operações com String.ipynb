{
 "cells": [
  {
   "cell_type": "markdown",
   "metadata": {},
   "source": [
    "# Operações com String\n",
    "\n",
    "str -> transforma número em string<br>\n",
    "in -> verifica se um texto está contido dentro do outro<br>\n",
    "operador + -> concatenar string<br>\n",
    "format e {} -> substitui valores<br>\n",
    "%s -> substitui textos<br>\n",
    "%d -> substitui números decimais<br>\n",
    "\n",
    "Vamos deixar uma cartilha para download"
   ]
  },
  {
   "cell_type": "code",
   "execution_count": 1,
   "metadata": {},
   "outputs": [],
   "source": [
    "faturamento = 1000\n",
    "custo = 500\n",
    "lucro = faturamento - custo"
   ]
  },
  {
   "cell_type": "markdown",
   "metadata": {},
   "source": [
    "Uso do str() e do concatenar com +"
   ]
  },
  {
   "cell_type": "code",
   "execution_count": 2,
   "metadata": {},
   "outputs": [
    {
     "name": "stdout",
     "output_type": "stream",
     "text": [
      "O faturamento da loja foi de: 1000\n"
     ]
    }
   ],
   "source": [
    "print ('O faturamento da loja foi de: ' + str(faturamento))\n",
    "#  n tem como concatenar um numero int com uma String por isso usamos o str \n"
   ]
  },
  {
   "cell_type": "markdown",
   "metadata": {},
   "source": [
    "Uso do Format"
   ]
  },
  {
   "cell_type": "code",
   "execution_count": 3,
   "metadata": {},
   "outputs": [
    {
     "name": "stdout",
     "output_type": "stream",
     "text": [
      "O faturamento foi de: 1000\n",
      "O faturamento da loja foi de 1000. O custo da lojo foi de 500 e o Lucro foi de 500.\n"
     ]
    }
   ],
   "source": [
    "print('O faturamento foi de: {}'.format(faturamento))\n",
    "print(\"O faturamento da loja foi de {}. O custo da lojo foi de {} e o Lucro foi de {}.\".format(faturamento, custo, lucro))"
   ]
  },
  {
   "cell_type": "code",
   "execution_count": 4,
   "metadata": {},
   "outputs": [
    {
     "name": "stdout",
     "output_type": "stream",
     "text": [
      "O faturamento foi de 1000. O custo da loja foi de 500 e o lucro da loja foi de 500. Repetindo novamente o faturamento foi de 1000\n"
     ]
    }
   ],
   "source": [
    "# E se precisarmos de repetir uma informação \n",
    "# Vamos colocar a posição dele na lista \n",
    "#como? \n",
    "print(\"O faturamento foi de {0}. O custo da loja foi de {1} e o lucro da loja foi de {2}. Repetindo novamente o faturamento foi de {0}\".format(faturamento, custo , lucro))\n",
    "# Lembrando se você coloca a posição de qualquer um você e obrigado a colocar nos demais tambem, não é possivel coloca a posição em so um "
   ]
  },
  {
   "cell_type": "markdown",
   "metadata": {},
   "source": [
    "Uso do %s e %d"
   ]
  },
  {
   "cell_type": "code",
   "execution_count": 10,
   "metadata": {},
   "outputs": [
    {
     "name": "stdout",
     "output_type": "stream",
     "text": [
      "O faturamento foi de: \n",
      "O faturamento foi de: 1000 \n",
      "O faturamento foi bom \n",
      "O Faturamento foi de: 1000 . O custo foi de 500 e o lucro foi 500 \n"
     ]
    }
   ],
   "source": [
    "print ('O faturamento foi de: ')\n",
    "# o %s ele vai colocar um string \n",
    "# o %d ele vai coloar um numero \n",
    "#como?\n",
    "print (\"O faturamento foi de: %d \" % faturamento)\n",
    "print (\"O faturamento foi %s \" % \"bom\")\n",
    "\n",
    "# Agora vamos fazer com mais variaveis \n",
    "print (\"O Faturamento foi de: %d . O custo foi de %d e o lucro foi %d \"%(faturamento, custo, lucro) )\n",
    "# funciona basicamente do mesmo jeito que funciona o .formart "
   ]
  },
  {
   "cell_type": "markdown",
   "metadata": {},
   "source": [
    "Uso do in (mais exercícios práticos nas próximas aulas)"
   ]
  },
  {
   "cell_type": "code",
   "execution_count": 12,
   "metadata": {},
   "outputs": [
    {
     "name": "stdout",
     "output_type": "stream",
     "text": [
      "True\n",
      "False\n",
      "True\n",
      "False\n"
     ]
    }
   ],
   "source": [
    "print('@' in 'lira@gmail.com')\n",
    "print('@' in 'lira.gmail.com')\n",
    "\n",
    "# o metodo in verifica se uma coisa esta contida em outra \n",
    "# como ? \n",
    "# no exemplo vamos verificar se na mensagem tem a letra w\n",
    "print(\"w\" in \"wisley\")\n",
    "# o resultado foi true isso significa que tem a letra w no nome\n",
    "\n",
    "print(\"w \" in \"carlos\")\n",
    "# o resultado foi false pois não tem w na mensagem \n"
   ]
  }
 ],
 "metadata": {
  "kernelspec": {
   "display_name": "Python 3",
   "language": "python",
   "name": "python3"
  },
  "language_info": {
   "codemirror_mode": {
    "name": "ipython",
    "version": 3
   },
   "file_extension": ".py",
   "mimetype": "text/x-python",
   "name": "python",
   "nbconvert_exporter": "python",
   "pygments_lexer": "ipython3",
   "version": "3.10.11"
  }
 },
 "nbformat": 4,
 "nbformat_minor": 4
}
