{
 "cells": [
  {
   "cell_type": "markdown",
   "id": "4e5fa91b",
   "metadata": {},
   "source": [
    "### Forma Básica"
   ]
  },
  {
   "cell_type": "code",
   "execution_count": 2,
   "id": "fba45682",
   "metadata": {},
   "outputs": [
    {
     "name": "stdout",
     "output_type": "stream",
     "text": [
      "Jan: \n"
     ]
    }
   ],
   "source": [
    "precos = \"Jan: 25, Fev: 27, Mar: 29\"\n",
    "# 0 é o primeiro termo da string \n",
    "\n",
    "#precos_jan = precos[0:5]\n",
    "#print(precos_jan)"
   ]
  },
  {
   "cell_type": "markdown",
   "id": "afe5dc17",
   "metadata": {},
   "source": [
    "### Posição Inicial e Final"
   ]
  },
  {
   "cell_type": "code",
   "execution_count": 19,
   "id": "c3488405",
   "metadata": {},
   "outputs": [
    {
     "name": "stdout",
     "output_type": "stream",
     "text": [
      "Jan: 25\n",
      "Fev: 27\n",
      "Mar: 29\n"
     ]
    }
   ],
   "source": [
    "precos_jan = precos[:7] #pega no comeco\n",
    "precos_fev = precos[9:16]# pega no meio \n",
    "precos_mar = precos[-7:]#pega no final \n",
    "\n",
    "print(precos_jan)\n",
    "print(precos_fev)\n",
    "print(precos_mar)"
   ]
  },
  {
   "cell_type": "markdown",
   "id": "bca6dfd4",
   "metadata": {},
   "source": [
    "### Posição Inicial e Final com Step"
   ]
  },
  {
   "cell_type": "code",
   "execution_count": 29,
   "id": "981224c2",
   "metadata": {},
   "outputs": [
    {
     "name": "stdout",
     "output_type": "stream",
     "text": [
      "1.2.3.4,5,1,2.3.4,7.9\n",
      "\n",
      "1.4,2.7\n",
      "\n",
      "9.7,4.3.2,1,5,4.3.2.1\n",
      "\n",
      "97432154321\n"
     ]
    }
   ],
   "source": [
    "codigo = \"1.2.3.4,5,1,2.3.4,7.9\"\n",
    "\n",
    "pedaco_codigo = codigo [::] # por padrao ele vai pegar de um em um\n",
    "print(pedaco_codigo)\n",
    "print()\n",
    "pedaco_codigo2 = codigo [::3] #aqui agora ele vai pegar de 3 em 3 \n",
    "print(pedaco_codigo2)\n",
    "print()\n",
    "\n",
    "#ele tbm pode pegar de tras para frente \n",
    "pedaco_codigo3 = codigo [::-1]# ele vai inverter ou seja vai pegar de tras para frente \n",
    "print(pedaco_codigo3)\n",
    "print()\n",
    "\n",
    "pedaco_codigo4 = codigo [::-2]\n",
    "print(pedaco_codigo4)"
   ]
  },
  {
   "cell_type": "code",
   "execution_count": null,
   "id": "e134a9b3",
   "metadata": {},
   "outputs": [],
   "source": []
  }
 ],
 "metadata": {
  "kernelspec": {
   "display_name": "Python 3 (ipykernel)",
   "language": "python",
   "name": "python3"
  },
  "language_info": {
   "codemirror_mode": {
    "name": "ipython",
    "version": 3
   },
   "file_extension": ".py",
   "mimetype": "text/x-python",
   "name": "python",
   "nbconvert_exporter": "python",
   "pygments_lexer": "ipython3",
   "version": "3.10.11"
  }
 },
 "nbformat": 4,
 "nbformat_minor": 5
}
