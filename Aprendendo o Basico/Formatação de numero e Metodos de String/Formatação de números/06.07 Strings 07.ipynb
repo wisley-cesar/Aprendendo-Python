{
 "cells": [
  {
   "cell_type": "markdown",
   "metadata": {},
   "source": [
    "# Format - Aula de Consulta\n",
    "\n",
    "### Como usar o format para criar formatações personalizadas em prints e textos."
   ]
  },
  {
   "cell_type": "raw",
   "metadata": {},
   "source": [
    ":<\t\tAlinha o texto à esquerda (se tiver espaço na tela para isso)\n",
    ":>\t\tAlinha o texto à direita (se tiver espaço na tela para isso)\n",
    ":^\t\tAlinha o texto ao centro (se tiver espaço na tela para isso)\n",
    ":+\t\tColoca o sinal sempre na frente do número (independente se é positivo ou negativo)\n",
    ":,\t\tColoca a vírgula como separador de milhar\n",
    ":_\t\tColoca o _ como separador de milhar\n",
    ":e\t\tFormato Científico\n",
    ":f\t\tNúmero com quantidade fixa de casas decimais\n",
    ":x\t\tFormato HEX minúscula (para cores)\n",
    ":X\t\tFormato HEX maiúscula (para cores)\n",
    ":%\t\tFormato Percentual"
   ]
  },
  {
   "cell_type": "markdown",
   "metadata": {},
   "source": [
    "- Exemplo de Alinhamento"
   ]
  },
  {
   "cell_type": "code",
   "execution_count": 28,
   "metadata": {},
   "outputs": [
    {
     "name": "stdout",
     "output_type": "stream",
     "text": [
      "Meu e-mail não é lira@gmail.com                , show?\n"
     ]
    }
   ],
   "source": [
    "email = 'lira@gmail.com'\n",
    "print('Meu e-mail não é {:<30}, show?'.format(email))"
   ]
  },
  {
   "cell_type": "code",
   "execution_count": 29,
   "metadata": {},
   "outputs": [
    {
     "name": "stdout",
     "output_type": "stream",
     "text": [
      "seu nome é                         .\n"
     ]
    }
   ],
   "source": [
    "nome = input('Inisira seu nome')\n",
    "print('seu nome é {:^23} .'.format(nome))"
   ]
  },
  {
   "cell_type": "markdown",
   "metadata": {},
   "source": [
    "- Exemplo de Edição de Sinal"
   ]
  },
  {
   "cell_type": "code",
   "execution_count": 30,
   "metadata": {},
   "outputs": [
    {
     "name": "stdout",
     "output_type": "stream",
     "text": [
      "Faturamento foi +270 e lucro foi -230\n"
     ]
    }
   ],
   "source": [
    "custo = 500\n",
    "faturamento = 270\n",
    "lucro = faturamento - custo\n",
    "print('Faturamento foi {:+} e lucro foi {:+}'.format(faturamento, lucro))"
   ]
  },
  {
   "cell_type": "code",
   "execution_count": 31,
   "metadata": {},
   "outputs": [
    {
     "ename": "ValueError",
     "evalue": "invalid literal for int() with base 10: ''",
     "output_type": "error",
     "traceback": [
      "\u001b[1;31m---------------------------------------------------------------------------\u001b[0m",
      "\u001b[1;31mValueError\u001b[0m                                Traceback (most recent call last)",
      "Cell \u001b[1;32mIn[31], line 2\u001b[0m\n\u001b[0;32m      1\u001b[0m custo \u001b[39m=\u001b[39m \u001b[39mint\u001b[39m(\u001b[39minput\u001b[39m(\u001b[39m\"\u001b[39m\u001b[39mInsira o custo \u001b[39m\u001b[39m\"\u001b[39m))\n\u001b[1;32m----> 2\u001b[0m faturamento \u001b[39m=\u001b[39m \u001b[39mint\u001b[39;49m(\u001b[39minput\u001b[39;49m(\u001b[39m'\u001b[39;49m\u001b[39mInsira o faturamento \u001b[39;49m\u001b[39m'\u001b[39;49m))\n\u001b[0;32m      3\u001b[0m lucro \u001b[39m=\u001b[39m faturamento \u001b[39m-\u001b[39m custo \n\u001b[0;32m      4\u001b[0m \u001b[39mprint\u001b[39m(\u001b[39m\"\u001b[39m\u001b[39mFaturamento foi \u001b[39m\u001b[39m{:+}\u001b[39;00m\u001b[39m e o lucro foi \u001b[39m\u001b[39m{:+}\u001b[39;00m\u001b[39m\"\u001b[39m\u001b[39m.\u001b[39mformat(faturamento, lucro))\n",
      "\u001b[1;31mValueError\u001b[0m: invalid literal for int() with base 10: ''"
     ]
    }
   ],
   "source": [
    "custo = int(input(\"Insira o custo \"))\n",
    "faturamento = int(input('Insira o faturamento '))\n",
    "lucro = faturamento - custo \n",
    "print(\"Faturamento foi {:+} e o lucro foi {:+}\".format(faturamento, lucro))"
   ]
  },
  {
   "cell_type": "markdown",
   "metadata": {},
   "source": [
    "- Exemplo de Separador de Milhar"
   ]
  },
  {
   "cell_type": "code",
   "execution_count": null,
   "metadata": {},
   "outputs": [
    {
     "name": "stdout",
     "output_type": "stream",
     "text": [
      "Faturamento foi +270 e lucro foi -230\n"
     ]
    }
   ],
   "source": [
    "custo = 500\n",
    "faturamento = 270\n",
    "lucro = faturamento - custo\n",
    "print('Faturamento foi {:+} e lucro foi {:+}'.format(faturamento, lucro))"
   ]
  },
  {
   "cell_type": "code",
   "execution_count": null,
   "metadata": {},
   "outputs": [
    {
     "name": "stdout",
     "output_type": "stream",
     "text": [
      "Faturamento foi 123,141,431,313,213,212,345,131 e o lucro foi 123,141,431,313,213,212,344,918\n"
     ]
    }
   ],
   "source": [
    "#ele vai separar o numero \n",
    "\n",
    "custo = int(input(\"Insira o custo \"))\n",
    "faturamento = int(input('Insira o faturamento '))\n",
    "lucro = faturamento - custo \n",
    "print(\"Faturamento foi {:,} e o lucro foi {:,}\".format(faturamento, lucro))"
   ]
  },
  {
   "cell_type": "code",
   "execution_count": null,
   "metadata": {},
   "outputs": [
    {
     "name": "stdout",
     "output_type": "stream",
     "text": [
      "Faturamento foi +32,131,313.12 e o lucro foi +30,900,000.89\n"
     ]
    }
   ],
   "source": [
    "# tem como colocar os dois juntos \n",
    "\n",
    "custo = float(input(\"Insira o custo \"))\n",
    "faturamento = float(input('Insira o faturamento '))\n",
    "lucro = faturamento - custo \n",
    "print(\"Faturamento foi {:+,.2f} e o lucro foi {:+,.2f}\".format(faturamento, lucro)) # basta colocar o sinal e depois a virgula "
   ]
  },
  {
   "cell_type": "markdown",
   "metadata": {},
   "source": [
    "- Formato com casas Decimais fixas"
   ]
  },
  {
   "cell_type": "code",
   "execution_count": null,
   "metadata": {},
   "outputs": [
    {
     "name": "stdout",
     "output_type": "stream",
     "text": [
      "Faturamento foi 270.00 e lucro foi -230.000000\n"
     ]
    }
   ],
   "source": [
    "custo = 500\n",
    "faturamento = 270\n",
    "lucro = faturamento - custo\n",
    "print('Faturamento foi {:.2f} e lucro foi {:2f}'.format(faturamento, lucro))"
   ]
  },
  {
   "cell_type": "markdown",
   "metadata": {},
   "source": [
    "- Formato Percentual"
   ]
  },
  {
   "cell_type": "code",
   "execution_count": null,
   "metadata": {},
   "outputs": [
    {
     "name": "stdout",
     "output_type": "stream",
     "text": [
      "Margem de lucro foi de 61.54%\n"
     ]
    }
   ],
   "source": [
    "custo = 500\n",
    "faturamento = 1300\n",
    "lucro = faturamento - custo\n",
    "margem = lucro / faturamento\n",
    "print('Margem de lucro foi de {:.2%}'.format(margem))"
   ]
  },
  {
   "cell_type": "code",
   "execution_count": null,
   "metadata": {},
   "outputs": [
    {
     "name": "stdout",
     "output_type": "stream",
     "text": [
      "Margem de lucro foi de 90.01%\n"
     ]
    }
   ],
   "source": [
    "# Formantado a porcetagem \n",
    "custo =float(input('Insira o custo'))\n",
    "faturamento = float(input('Insira o faturamento'))\n",
    "lucro = faturamento - custo\n",
    "margem = lucro / faturamento\n",
    "print('Margem de lucro foi de {:.2%}'.format(margem))# tem como você formatar o numeros de casas decimais que voce deseja\n",
    "                                                     # junto com o simbolo de % "
   ]
  },
  {
   "cell_type": "markdown",
   "metadata": {},
   "source": [
    "- Formato Moeda -> Combinação de Formatos\n",
    "\n",
    "Existem módulos/bibliotecas que vão facilitar isso, caso a gente queira, mas vamos ver como usar módulos mais a frente do curso. Por enquanto, se você precisar, pode fazer substituições em string"
   ]
  },
  {
   "cell_type": "code",
   "execution_count": 32,
   "metadata": {},
   "outputs": [
    {
     "name": "stdout",
     "output_type": "stream",
     "text": [
      "Faturamento foi R$27,000.00 e lucro foi R$22,000.00\n",
      "R$22.000,00\n"
     ]
    }
   ],
   "source": [
    "custo = 5000\n",
    "faturamento = 27000\n",
    "lucro = faturamento - custo\n",
    "print('Faturamento foi R${:,.2f} e lucro foi R${:,.2f}'.format(faturamento, lucro))\n",
    "\n",
    "#transformando no formato brasileiro\n",
    "lucro_texto = 'R${:_.2f}'.format(lucro)\n",
    "print(lucro_texto.replace('.', ',').replace('_', '.'))"
   ]
  },
  {
   "cell_type": "markdown",
   "metadata": {},
   "source": [
    "- Função round() para arredondar números, caso seja necessário"
   ]
  },
  {
   "cell_type": "code",
   "execution_count": 66,
   "metadata": {},
   "outputs": [
    {
     "name": "stdout",
     "output_type": "stream",
     "text": [
      "Imposto sobre o preço é de 15.8\n"
     ]
    }
   ],
   "source": [
    "imposto = 0.15758\n",
    "preco = 100\n",
    "valor_imposto = round(preco * imposto, 1)\n",
    "print('Imposto sobre o preço é de {}'.format(valor_imposto))"
   ]
  },
  {
   "cell_type": "code",
   "execution_count": 35,
   "metadata": {},
   "outputs": [
    {
     "name": "stdout",
     "output_type": "stream",
     "text": [
      "Imposto sobre o preço é de 2848572.6\n"
     ]
    }
   ],
   "source": [
    "imposto = float(input(\"insira o imposto \"))\n",
    "preco = float(input('insira o preco'))\n",
    "valor_imposto = round(preco * imposto, 1)# arredonda com uma casa decimal, voce pode escolher quantas casas voce quiser \n",
    "print('Imposto sobre o preço é de {}'.format(valor_imposto))"
   ]
  }
 ],
 "metadata": {
  "kernelspec": {
   "display_name": "Python 3",
   "language": "python",
   "name": "python3"
  },
  "language_info": {
   "codemirror_mode": {
    "name": "ipython",
    "version": 3
   },
   "file_extension": ".py",
   "mimetype": "text/x-python",
   "name": "python",
   "nbconvert_exporter": "python",
   "pygments_lexer": "ipython3",
   "version": "3.10.11"
  }
 },
 "nbformat": 4,
 "nbformat_minor": 4
}
