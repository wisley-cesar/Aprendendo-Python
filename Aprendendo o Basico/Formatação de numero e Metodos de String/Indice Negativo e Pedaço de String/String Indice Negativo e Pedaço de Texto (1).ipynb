{
 "cells": [
  {
   "cell_type": "raw",
   "metadata": {},
   "source": [
    "Texto: lira@gmail.com\n",
    "\n",
    "-14 -13 -12 -11 -10 -9 -8 -7 -6 -5 -4 -3 -2 -1\n",
    "  l   i   r   a   @  g  m  a  i  l  .  c  o  m\n",
    "  0   1   2   3   4  5  6  7  8  9 10 11 12 13\n",
    "  \n",
    "Para pegar um texto de trás para frente: texto[índice] -> onde índice é negativo\n",
    "Para pegar o pedaço de um texto use : (dois pontos). texto[:indice] ou texto[indice:] ou ainda texto[indice:indice]"
   ]
  },
  {
   "cell_type": "code",
   "execution_count": 11,
   "metadata": {},
   "outputs": [
    {
     "name": "stdout",
     "output_type": "stream",
     "text": [
      "c\n",
      "lira@\n",
      "gmail.com\n",
      "@gmail.com\n",
      "@gmail\n",
      "ra@gmail.com\n"
     ]
    }
   ],
   "source": [
    "email = 'lira@gmail.com'\n",
    "nome = 'João Paulo Lira'\n",
    "\n",
    "print(email[-3]) # e a msm coisa do indece normal so que conta de tras para frente \n",
    "print(email[:5]) # os : serve para pegar um pedaço do indice \n",
    "# podemos ver que pedimos para ele pergar ate o indece 5 mas ele no deu a respota ate o indece 4 \n",
    "# ele desconsidera o ultimo numero do indece \n",
    "print(email[5:]) #ele vai pefar todas os indeces depois do 5 \n",
    "# ou seja todas as letras depois do 5 ele pegou \n",
    "print(email[4:])\n",
    "\n",
    "print(email[4:10])\n",
    "print(email[2:])\n",
    "\n"
   ]
  },
  {
   "cell_type": "markdown",
   "metadata": {},
   "source": [
    "Exercícios para Fixação:\n",
    "Basta completar os prints de forma correta"
   ]
  },
  {
   "cell_type": "code",
   "execution_count": 17,
   "metadata": {},
   "outputs": [
    {
     "name": "stdout",
     "output_type": "stream",
     "text": [
      "Tamanho do e-mail 14 caracteres\n",
      "Primeiro Caractere ?\n",
      "l\n",
      "Último Caractere ?\n",
      "m\n",
      "Servidor do email ?\n",
      "gmail.com\n"
     ]
    }
   ],
   "source": [
    "print('Tamanho do e-mail ' + str(len(email)) + ' caracteres')\n",
    "print('Primeiro Caractere ' + '?')\n",
    "print(email[0])\n",
    "print('Último Caractere ' + '?')\n",
    "print(email[-1])\n",
    "print('Servidor do email ' + '?')\n",
    "print(email[5:])"
   ]
  }
 ],
 "metadata": {
  "kernelspec": {
   "display_name": "Python 3",
   "language": "python",
   "name": "python3"
  },
  "language_info": {
   "codemirror_mode": {
    "name": "ipython",
    "version": 3
   },
   "file_extension": ".py",
   "mimetype": "text/x-python",
   "name": "python",
   "nbconvert_exporter": "python",
   "pygments_lexer": "ipython3",
   "version": "3.10.11"
  }
 },
 "nbformat": 4,
 "nbformat_minor": 4
}
