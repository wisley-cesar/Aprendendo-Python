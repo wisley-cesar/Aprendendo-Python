{
 "cells": [
  {
   "cell_type": "code",
   "execution_count": 4,
   "metadata": {},
   "outputs": [
    {
     "name": "stdout",
     "output_type": "stream",
     "text": [
      "O faturamento da loja foi de 14507 Reais. \n",
      "O cusro da loja foi de 7658 Reias.\n",
      "Assim o lucro da loja e 6849 Reias. \n"
     ]
    }
   ],
   "source": [
    "# todo input recebe um texto independente de qual a mensagem insira pelo usuraio \n",
    "#ele encherga aquilo com texto \n",
    "#e nao tem fazer operacoes matematicas em python com texto \n",
    "#enato voce vai ter que mudar o tipo da variavel \n",
    "#colocando o formato que voce quer a variavel antes do input\n",
    "#assim como no exemplos logo a seguir \n",
    "\n",
    "\n",
    "faturamento = (int(input('Insira o faturamenento')))\n",
    "custo = (int(input('Insira o custo')))\n",
    "lucro = faturamento- custo\n",
    "print(f\"O faturamento da loja foi de {faturamento} Reais. \\nO custo da loja foi de {custo} Reias.\\nAssim o lucro da loja e {lucro} Reias. \")\n",
    "\n",
    "# str ---> muda para String\n",
    "# int ---> muda para inteiro \n",
    "# float ---> muda para float"
   ]
  }
 ],
 "metadata": {
  "kernelspec": {
   "display_name": "Python 3",
   "language": "python",
   "name": "python3"
  },
  "language_info": {
   "codemirror_mode": {
    "name": "ipython",
    "version": 3
   },
   "file_extension": ".py",
   "mimetype": "text/x-python",
   "name": "python",
   "nbconvert_exporter": "python",
   "pygments_lexer": "ipython3",
   "version": "3.10.10"
  },
  "orig_nbformat": 4,
  "vscode": {
   "interpreter": {
    "hash": "63d2fd587fa4181fc5553af31df89262a8a4bc207f39d6f90a2c67455bc4c762"
   }
  }
 },
 "nbformat": 4,
 "nbformat_minor": 2
}
