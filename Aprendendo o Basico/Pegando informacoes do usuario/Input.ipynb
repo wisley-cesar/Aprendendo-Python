{
 "cells": [
  {
   "cell_type": "code",
   "execution_count": 1,
   "metadata": {},
   "outputs": [
    {
     "data": {
      "text/plain": [
       "'wisley'"
      ]
     },
     "execution_count": 1,
     "metadata": {},
     "output_type": "execute_result"
    }
   ],
   "source": [
    "input(\"qual e o seu nome\")"
   ]
  },
  {
   "cell_type": "code",
   "execution_count": 3,
   "metadata": {},
   "outputs": [
    {
     "name": "stdout",
     "output_type": "stream",
     "text": [
      "wisley\n"
     ]
    }
   ],
   "source": [
    "nome = input(\"qual seu nome\")\n",
    "print(nome)"
   ]
  },
  {
   "cell_type": "code",
   "execution_count": 7,
   "metadata": {},
   "outputs": [
    {
     "name": "stdout",
     "output_type": "stream",
     "text": [
      "wisley  cesar\n"
     ]
    }
   ],
   "source": [
    "\n",
    "nome = input(\"qual e o seu primeiro nome?\")\n",
    "sobrenome = input(\"qual e o seu sobrenome?\")\n",
    "print(nome, sobrenome)"
   ]
  },
  {
   "cell_type": "code",
   "execution_count": 1,
   "metadata": {},
   "outputs": [
    {
     "name": "stdout",
     "output_type": "stream",
     "text": [
      "wisley cesar\n"
     ]
    }
   ],
   "source": [
    "nome = input(\"qual e o seu primeiro nome?\")\n",
    "sobrenome = input(\"qual e o seu sobrenome?\")\n",
    "print(nome + \" \" + sobrenome)"
   ]
  },
  {
   "cell_type": "code",
   "execution_count": 4,
   "metadata": {},
   "outputs": [
    {
     "name": "stdout",
     "output_type": "stream",
     "text": [
      " Seu nome é Gustavo\n",
      " Sua idade é 13\n",
      " E seu sexo é Gay\n"
     ]
    }
   ],
   "source": [
    "nome = input(\"Isira seu nome \")\n",
    "idade = input(\"Isira sua idade \")\n",
    "sexo = input(\"Insira seu sexo \")\n",
    "print(\" Seu nome é \" + nome + \"\\n Sua idade é \" + idade + \"\\n E seu sexo é \" + sexo)\n"
   ]
  }
 ],
 "metadata": {
  "kernelspec": {
   "display_name": "Python 3",
   "language": "python",
   "name": "python3"
  },
  "language_info": {
   "codemirror_mode": {
    "name": "ipython",
    "version": 3
   },
   "file_extension": ".py",
   "mimetype": "text/x-python",
   "name": "python",
   "nbconvert_exporter": "python",
   "pygments_lexer": "ipython3",
   "version": "3.10.11"
  },
  "orig_nbformat": 4,
  "vscode": {
   "interpreter": {
    "hash": "63d2fd587fa4181fc5553af31df89262a8a4bc207f39d6f90a2c67455bc4c762"
   }
  }
 },
 "nbformat": 4,
 "nbformat_minor": 2
}
