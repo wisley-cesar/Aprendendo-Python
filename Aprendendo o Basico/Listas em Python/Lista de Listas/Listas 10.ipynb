{
 "cells": [
  {
   "cell_type": "markdown",
   "metadata": {},
   "source": [
    "# Listas de Listas\n",
    "\n",
    "### Estrutura:\n",
    "\n",
    "Cada item de uma lista pode ser qualquer tipo de variável. Inclusive, uma lista.\n",
    "\n",
    "Quando dentro de uma lista temos cada item como sendo uma outra lista, temos uma \"nested list\", ou seja, uma lista de listas.\n",
    "\n",
    "Todas as regras de lista e tudo que vimos até agora funciona exatamente igual, mas vamos ver como isso funciona na prática"
   ]
  },
  {
   "cell_type": "code",
   "execution_count": 37,
   "metadata": {},
   "outputs": [],
   "source": [
    "vendedores = ['Lira', 'João', 'Diego', 'Alon']\n",
    "produtos = ['ipad', 'iphone']\n",
    "vendas = [     # cada lista dentro da lista sao respectivamente o numero de vendas de ipad e iphone de cada vedendor \n",
    "    [100, 200],# essas sao as vendas do Lira\n",
    "    [300, 500],# essas sao as do João \n",
    "\n",
    "    [50, 1000],# essas sao as do Diego\n",
    "    [900, 10],# essas sao as do Alon \n",
    "]# é recomendado fazer a lista e lista desse modelo ai, nessa formatação \\\n"
   ]
  },
  {
   "cell_type": "markdown",
   "metadata": {},
   "source": [
    "- Quanto João vendeu de IPad?\n",
    "- Quanto Diego vendeu de IPhone\n",
    "- Qual o total de vendas de IPhone?"
   ]
  },
  {
   "cell_type": "code",
   "execution_count": 30,
   "metadata": {},
   "outputs": [
    {
     "name": "stdout",
     "output_type": "stream",
     "text": [
      "O João vendeu o total de 300 unidades de ipad\n",
      "O Diego vendeu o tatal de 1000 unidades de iphone\n",
      "O total de vendas de iphone foi de 1560 unidades\n"
     ]
    }
   ],
   "source": [
    "vendas_ipad_Joao = vendas[1][0]\n",
    "vendas_iphone_Diego = vendas[2][1]\n",
    "vendas_total_Iphone = vendas[0][1] + vendas[1][1]+ vendas[2][1]+ vendas[3][1]\n",
    "print(f'O {vendedores[1]} vendeu o total de {vendas_ipad_Joao} unidades de {produtos[0]}')\n",
    "print(f'O {vendedores[2]} vendeu o tatal de {vendas_iphone_Diego} unidades de {produtos[1] }')\n",
    "#print(f'O valor total de vende de {produtos[1]} foi  de {sum(vendas_total_Iphone)}')\n",
    "print(f'O total de vendas de {produtos[1]} foi de {vendas_total_Iphone} unidades')"
   ]
  },
  {
   "cell_type": "markdown",
   "metadata": {},
   "source": [
    "- E se Lira na verdade fez apenas 50 vendas de IPhone, como eu modifico na minha lista o valor de vendas dele?"
   ]
  },
  {
   "cell_type": "code",
   "execution_count": 27,
   "metadata": {},
   "outputs": [
    {
     "name": "stdout",
     "output_type": "stream",
     "text": [
      "[[100, 50], [300, 500], [50, 1000], [900, 10]]\n"
     ]
    }
   ],
   "source": [
    "# vamos mudar as vendas do lira para 50, porem o dado ta dentro de um lista que esta em outra lista \n",
    "#é assim q faz\n",
    "\n",
    "vendas[0] [1]= 50# pega a posicao que a lista de vendas dele ta, depois pega o indece que ele quer mudar\n",
    "\n",
    "print(vendas)"
   ]
  },
  {
   "cell_type": "markdown",
   "metadata": {},
   "source": [
    "- E se agora eu tenho um novo produto 'mac', como eu adiciono as vendas em cada um dos vendedores?"
   ]
  },
  {
   "cell_type": "code",
   "execution_count": 38,
   "metadata": {},
   "outputs": [
    {
     "name": "stdout",
     "output_type": "stream",
     "text": [
      "[[100, 200, 10], [300, 500, 15], [50, 1000, 6], [900, 10, 70]]\n"
     ]
    }
   ],
   "source": [
    "venda_mac = [10, 15, 6, 70]\n",
    "# vamos adicionar os valor das vendas do mac nas lista de vendas \n",
    "#pega o indece da lista que voce quer adicionar, e usando o append, coloca o nome da lista dos indece que voce que adicionar, e depois a posicao do indece que deseja adicionar, como mostra o exemplo abaixo \n",
    "vendas[0].append(venda_mac[0])\n",
    "vendas[1].append(venda_mac[1])\n",
    "vendas[2].append(venda_mac[2])\n",
    "vendas[3].append(venda_mac[3])\n",
    "\n",
    "print(vendas)"
   ]
  }
 ],
 "metadata": {
  "kernelspec": {
   "display_name": "Python 3",
   "language": "python",
   "name": "python3"
  },
  "language_info": {
   "codemirror_mode": {
    "name": "ipython",
    "version": 3
   },
   "file_extension": ".py",
   "mimetype": "text/x-python",
   "name": "python",
   "nbconvert_exporter": "python",
   "pygments_lexer": "ipython3",
   "version": "3.10.11"
  }
 },
 "nbformat": 4,
 "nbformat_minor": 4
}
