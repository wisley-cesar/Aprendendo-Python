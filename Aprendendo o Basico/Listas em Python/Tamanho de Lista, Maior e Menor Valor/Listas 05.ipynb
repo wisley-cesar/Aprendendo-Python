{
 "cells": [
  {
   "cell_type": "markdown",
   "metadata": {},
   "source": [
    "# Algumas Funções Básicas de Lista\n",
    "\n",
    "## Tamanho da Lista\n",
    "\n",
    "tamanho = len(lista)"
   ]
  },
  {
   "cell_type": "code",
   "execution_count": 1,
   "metadata": {},
   "outputs": [],
   "source": [
    "produtos = ['apple tv', 'mac', 'iphone x', 'IPad', 'apple watch', 'mac book', 'airpods']"
   ]
  },
  {
   "cell_type": "markdown",
   "metadata": {},
   "source": [
    "- Quantos produtos temos a venda?"
   ]
  },
  {
   "cell_type": "code",
   "execution_count": 6,
   "metadata": {},
   "outputs": [
    {
     "name": "stdout",
     "output_type": "stream",
     "text": [
      "temos 7 produtos\n",
      "temos 7 produtos\n"
     ]
    }
   ],
   "source": [
    "# o len mostra o tamanho da lista \n",
    "\n",
    "tamanho = len(produtos)\n",
    "print(f'temos {tamanho} produtos')\n",
    "\n",
    "# poderia fazer assim tbm\n",
    "print(f'temos {len(produtos)} produtos')"
   ]
  },
  {
   "cell_type": "markdown",
   "metadata": {},
   "source": [
    "## Maior e Menor Valor\n",
    "\n",
    "maior = max(lista)\n",
    "\n",
    "menor = min(lista)"
   ]
  },
  {
   "cell_type": "code",
   "execution_count": 4,
   "metadata": {},
   "outputs": [],
   "source": [
    "vendas = [1000, 1500, 15000, 270, 900, 100, 1200]\n",
    " "
   ]
  },
  {
   "cell_type": "markdown",
   "metadata": {},
   "source": [
    "- Qual o item mais vendido?\n",
    "- Qual o item menos vendido?"
   ]
  },
  {
   "cell_type": "code",
   "execution_count": 10,
   "metadata": {},
   "outputs": [
    {
     "name": "stdout",
     "output_type": "stream",
     "text": [
      "o valor maior de vendas é 15000\n",
      "o valor maior de vendas é 15000\n",
      "\n",
      "o menor valor de vendas é 100\n",
      "o menor valor de vendas é 100\n"
     ]
    }
   ],
   "source": [
    "# para o maior valor\n",
    "\n",
    "maior = max(vendas)\n",
    "print(f'o valor maior de vendas é {maior}')\n",
    "# ou assim \n",
    "print(f'o valor maior de vendas é {max(vendas)}\\n')\n",
    "\n",
    "\n",
    "# para o menor \n",
    "\n",
    "menor = min(vendas)\n",
    "print(f\"o menor valor de vendas é {menor}\")\n",
    "# ou assim \n",
    "print(f\"o menor valor de vendas é {min(vendas)}\")\n"
   ]
  },
  {
   "cell_type": "code",
   "execution_count": 23,
   "metadata": {},
   "outputs": [
    {
     "name": "stdout",
     "output_type": "stream",
     "text": [
      "O produto mais vendido foi o iphone x vendendo o total de 15000 unidades.\n",
      "Já o produto que vendeu menos foi o mac book vendendo o total de 100 unidades.\n"
     ]
    }
   ],
   "source": [
    "# descobrindo a posicao do mais vendido \n",
    "incide_maior = vendas.index(maior)\n",
    "# descobrindo o menos vendido \n",
    "incide_menor = vendas.index(menor)\n",
    "print(f'O produto mais vendido foi o {produtos[incide_maior]} vendendo o total de {maior} unidades.\\nJá o produto que vendeu menos foi o {produtos[incide_menor]} vendendo o total de {menor} unidades.')\n",
    "\n",
    "\n",
    "\n"
   ]
  }
 ],
 "metadata": {
  "kernelspec": {
   "display_name": "Python 3",
   "language": "python",
   "name": "python3"
  },
  "language_info": {
   "codemirror_mode": {
    "name": "ipython",
    "version": 3
   },
   "file_extension": ".py",
   "mimetype": "text/x-python",
   "name": "python",
   "nbconvert_exporter": "python",
   "pygments_lexer": "ipython3",
   "version": "3.10.11"
  }
 },
 "nbformat": 4,
 "nbformat_minor": 4
}
