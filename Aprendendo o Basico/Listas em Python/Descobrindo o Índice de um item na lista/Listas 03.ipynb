{
 "cells": [
  {
   "cell_type": "markdown",
   "metadata": {},
   "source": [
    "# Como descobrir o índice de um item de uma lista?\n",
    "\n",
    "i = lista.index('item')"
   ]
  },
  {
   "cell_type": "markdown",
   "metadata": {},
   "source": [
    "Exemplo:\n",
    "\n",
    "Digamos que você puxou do Banco de Dados da sua empresa uma lista com todos os produtos que a empresa vende e a quantidade em estoque de todos eles."
   ]
  },
  {
   "cell_type": "code",
   "execution_count": 1,
   "metadata": {},
   "outputs": [],
   "source": [
    "produtos = ['tv', 'celular', 'tablet', 'mouse', 'teclado', 'geladeira', 'forno']\n",
    "estoque = [100, 150, 100, 120, 70, 180, 80]"
   ]
  },
  {
   "cell_type": "markdown",
   "metadata": {},
   "source": [
    "Nesse caso a lista é \"pequena\" para fins didáticos, mas essa lista poderia ter dezenas de milhares de produtos diferentes.\n",
    "\n",
    "E agora, como eu faço para descobrir a quantidade em estoque do produto geladeira?"
   ]
  },
  {
   "cell_type": "code",
   "execution_count": 11,
   "metadata": {},
   "outputs": [
    {
     "name": "stdout",
     "output_type": "stream",
     "text": [
      "5\n",
      "geladeira\n",
      "Quantidade de estoque da geladeira é de :180 Unidades\n"
     ]
    }
   ],
   "source": [
    "# O .index mostra a posicao daquele item na lista \n",
    "i = produtos.index('geladeira')\n",
    "print(i)\n",
    "\n",
    "# e pra saber o item do indece so fazer isso \n",
    "# isso é mais para verificar \n",
    "\n",
    "print(produtos[i])\n",
    "\n",
    "# agora vamos descobrir o estoque do produto \n",
    "qtd_estoque = estoque[i]\n",
    "\n",
    "print(f'Quantidade de estoque da {produtos[i]} é de : {qtd_estoque} Unidades')\n",
    "\n"
   ]
  },
  {
   "cell_type": "markdown",
   "metadata": {},
   "source": [
    "Crie um programa para fazer uma consulta de estoque. O usuário do programa deve inserir o nome do produto e, caso ele não exista na lista, ele deve ser avisado. Caso exista, o programa deve dizer a quantidade de unidades em estoque do produto"
   ]
  },
  {
   "cell_type": "code",
   "execution_count": 26,
   "metadata": {},
   "outputs": [
    {
     "name": "stdout",
     "output_type": "stream",
     "text": [
      "A quantidade de tv no estoque é 100 unidades \n"
     ]
    }
   ],
   "source": [
    "produto = input('Inisira o Nome do produto')\n",
    "\n",
    "# verificando se o \"protudo\" esta na lista \n",
    "# o in verificar se um esta contido em outro \n",
    "if produto in produtos: \n",
    "    # a variavel i serve para mostra em qual posicao o item inserido no input ta \n",
    "    #lembrando o index mosta a posicao daquele item na lista \n",
    "    i = produtos.index(produto)\n",
    "    qtd_estoques = estoque[i]\n",
    "    print(f\"A quantidade de {produto} no estoque é {qtd_estoques} unidades \")\n",
    "else :\n",
    "    print(f\" {produto} não existe no estoque !\")\n"
   ]
  }
 ],
 "metadata": {
  "kernelspec": {
   "display_name": "Python 3",
   "language": "python",
   "name": "python3"
  },
  "language_info": {
   "codemirror_mode": {
    "name": "ipython",
    "version": 3
   },
   "file_extension": ".py",
   "mimetype": "text/x-python",
   "name": "python",
   "nbconvert_exporter": "python",
   "pygments_lexer": "ipython3",
   "version": "3.10.11"
  }
 },
 "nbformat": 4,
 "nbformat_minor": 4
}
