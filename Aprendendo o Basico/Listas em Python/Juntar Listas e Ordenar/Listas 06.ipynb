{
 "cells": [
  {
   "cell_type": "markdown",
   "metadata": {},
   "source": [
    "# Juntar Listas, Ordenar e Cuidados Especiais\n",
    "\n",
    "### 2 formas:\n",
    "\n",
    "- lista1.extend(lista2)\n",
    "- lista_nova = lista1 + lista2\n",
    "\n",
    "Obs: o Método .append não junta listas, mas adiciona um valor no final da lista"
   ]
  },
  {
   "cell_type": "code",
   "execution_count": 18,
   "metadata": {},
   "outputs": [
    {
     "name": "stdout",
     "output_type": "stream",
     "text": [
      "['apple tv', 'mac', 'iphone x', 'iphone 11', 'IPad', 'apple watch', 'mac book', 'airpods', 'iphone 12', 'ioculos']\n",
      "\n",
      "['apple tv', 'mac', 'iphone x', 'iphone 11', 'IPad', 'apple watch', 'mac book', 'airpods', 'iphone 12', 'ioculos']\n",
      "\n"
     ]
    }
   ],
   "source": [
    "produtos = ['apple tv', 'mac', 'iphone x', 'iphone 11', 'IPad', 'apple watch', 'mac book', 'airpods']\n",
    "novos_produtos = ['iphone 12', 'ioculos']\n",
    "\n",
    "# esse metodo é somando as duas lista\n",
    "todos_Produtos = produtos + novos_produtos\n",
    "\n",
    "# esse é usando o extend\n",
    "produtos.extend(novos_produtos)\n",
    "\n",
    "# ambos tem o msm resultado \n",
    "\n",
    "print(produtos)\n",
    "print()\n",
    "print(todos_Produtos)\n",
    "print()\n",
    "\n",
    "# esse metodo aqui nao vai funcionar do msm jeito \n",
    "# ele vai coloar um lista dentro de outra lista \n",
    "produtos.append(novos_produtos)\n",
    "print(produtos)"
   ]
  },
  {
   "cell_type": "markdown",
   "metadata": {},
   "source": [
    "### Cuidado:\n",
    "\n",
    "- [1] + [2] não é a mesma coisa que 1 + 2, então cuidado sempre com o formato dos valores na hora de fazer operações."
   ]
  },
  {
   "cell_type": "code",
   "execution_count": 14,
   "metadata": {},
   "outputs": [
    {
     "name": "stdout",
     "output_type": "stream",
     "text": [
      "35000\n",
      "\n",
      "[15000, 20000]\n",
      "\n",
      "35000\n"
     ]
    }
   ],
   "source": [
    "vendas = [1000, 1500, 15000, 20000, 270, 900, 100, 1200]\n",
    "vendas_iphonex = [15000]\n",
    "vendas_iphone11 = [20000]\n",
    "\n",
    "total_iphone = vendas[2] + vendas[3]\n",
    "print(total_iphone)\n",
    "print()\n",
    "\n",
    "\n",
    "#tome cuidado para nao cometer esse erro \n",
    "total_iphone_2_Errado = vendas_iphonex + vendas_iphone11\n",
    "print(total_iphone_2_Errado)\n",
    "print()\n",
    "# Aqui você está juntando as duas listas e nao somando \n",
    "\n",
    "# agora o jeito certo de fazer \n",
    "#colocando a posicao dos indeces a ser somado\n",
    "total_iphone_2 = vendas_iphonex[0] + vendas_iphone11[0]\n",
    "\n",
    "print(total_iphone_2)"
   ]
  },
  {
   "cell_type": "markdown",
   "metadata": {},
   "source": [
    "### Ordenar listas\n",
    "\n",
    "lista.sort()"
   ]
  },
  {
   "cell_type": "code",
   "execution_count": 23,
   "metadata": {},
   "outputs": [
    {
     "name": "stdout",
     "output_type": "stream",
     "text": [
      "['IPad', 'airpods', 'apple tv', 'apple watch', 'ioculos', 'iphone 11', 'iphone 12', 'iphone x', 'mac', 'mac book']\n",
      "\n",
      "[100, 270, 900, 1000, 1200, 1500, 15000, 20000]\n",
      "\n",
      "[20000, 15000, 1500, 1200, 1000, 900, 270, 100]\n"
     ]
    }
   ],
   "source": [
    "produtos.sort()\n",
    "print(produtos)\n",
    "print()\n",
    "# tem um pequeno detalhe ele pega em ordem de acordo com a tabela ASCII\n",
    "# ele pega as letras maiuscula primeiro \n",
    "# entao tem que tratar antes \n",
    "\n",
    "# ja para numeros nao tem porblemas \n",
    "\n",
    "vendas.sort()\n",
    "print(vendas)\n",
    "print()\n",
    "# ordenando de forma invertida\n",
    "vendas.sort(reverse=True)\n",
    "print(vendas)"
   ]
  }
 ],
 "metadata": {
  "kernelspec": {
   "display_name": "Python 3",
   "language": "python",
   "name": "python3"
  },
  "language_info": {
   "codemirror_mode": {
    "name": "ipython",
    "version": 3
   },
   "file_extension": ".py",
   "mimetype": "text/x-python",
   "name": "python",
   "nbconvert_exporter": "python",
   "pygments_lexer": "ipython3",
   "version": "3.10.11"
  }
 },
 "nbformat": 4,
 "nbformat_minor": 4
}
