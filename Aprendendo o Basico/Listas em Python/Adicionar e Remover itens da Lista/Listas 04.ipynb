{
 "cells": [
  {
   "cell_type": "markdown",
   "metadata": {},
   "source": [
    "# Adicionar e Remover itens de uma lista\n",
    "\n",
    "Adicionar:<br>\n",
    "lista.append(item)\n",
    "\n",
    "Remover:<br>\n",
    "item_removido = lista.pop(indice)<br>\n",
    "lista.remove(item)\n",
    "\n",
    "Digamos que você está construindo o controle de produtos da Apple.<br>\n",
    "E a Apple lançou o IPhone 11 e irá tirar dos seus estoques o IPhone X"
   ]
  },
  {
   "cell_type": "code",
   "execution_count": 21,
   "metadata": {},
   "outputs": [
    {
     "name": "stdout",
     "output_type": "stream",
     "text": [
      "['apple tv', 'mac', 'iphone x', 'IPad', 'apple watch', 'mac book', 'airpods']\n",
      "\n",
      "['apple tv', 'mac', 'IPad', 'apple watch', 'mac book', 'airpods', 'iphone 11']\n",
      "\n",
      "Removemos o iphone x do Estoque\n"
     ]
    }
   ],
   "source": [
    "produtos = ['apple tv', 'mac', 'iphone x', 'IPad', 'apple watch', 'mac book', 'airpods']\n",
    "print(produtos)\n",
    "\n",
    "print()\n",
    "# Para adicionar um produto \n",
    "#usamo o append\n",
    "produtos.append('iphone 11')\n",
    "\n",
    "#para remover um item temos dois jeitos \n",
    "\n",
    "# O remove serve para tirar o iten pelo seu nome \n",
    "#produtos.remove('iphone x')\n",
    "\n",
    "i = produtos.index(\"iphone x\")\n",
    "\n",
    "# já o pop você tem que remover pelo valor do indice \n",
    "# camo eu vou saber o valor do indice \n",
    "# utilizando o index \n",
    "\n",
    "i = produtos.index(\"iphone x\")\n",
    "item_Removido = produtos.pop(i)\n",
    "# como ele armazena em uma variavel podemos printar o valor removido \n",
    "\n",
    "print(produtos)\n",
    "print()\n",
    "print(f\"Removemos o {item_Removido} do Estoque\")\n",
    "\n"
   ]
  },
  {
   "cell_type": "markdown",
   "metadata": {},
   "source": [
    "## Existem 2 formas de tratar o erro:\n",
    "\n",
    "1. Criar um if para evitar que ele aconteça\n",
    "\n",
    "2. Esperar que ele possa acontecer e tratar caso o erro aconteça com:"
   ]
  },
  {
   "cell_type": "raw",
   "metadata": {},
   "source": [
    "try:\n",
    "    tentar fazer\n",
    "except:\n",
    "    caso dê errado"
   ]
  },
  {
   "cell_type": "code",
   "execution_count": 22,
   "metadata": {},
   "outputs": [
    {
     "name": "stdout",
     "output_type": "stream",
     "text": [
      "O iphone 11 foi removido \n",
      "['apple tv', 'mac', 'IPad', 'apple watch', 'mac book', 'airpods']\n"
     ]
    }
   ],
   "source": [
    "\n",
    "\n",
    "#funciona quase igual  o if \n",
    "item_Removido = \"iphone 11\"\n",
    "\n",
    "#O try é quando voce sabe que ele pode dar errado \n",
    "\n",
    "try:\n",
    "    produtos.remove(\"iphone 11\")\n",
    "    print(f'O {item_Removido} foi removido ')\n",
    "    print(produtos)\n",
    "\n",
    "except: \n",
    "     print('Esse produto não existe!')"
   ]
  },
  {
   "cell_type": "code",
   "execution_count": 17,
   "metadata": {},
   "outputs": [
    {
     "name": "stdout",
     "output_type": "stream",
     "text": [
      "Esse produto não existe!\n"
     ]
    }
   ],
   "source": [
    "# trando o erro com o if \n",
    "\n",
    "item_Removido = input(\"Inisira o intem que você quer remover \")\n",
    "\n",
    "if item_Removido in produtos:\n",
    "    produtos.remove(item_Removido)\n",
    "    print(f'O {item_Removido} foi removido com sucesso')\n",
    "    print(produtos)\n",
    "else:\n",
    "    print('Esse produto não existe!')"
   ]
  }
 ],
 "metadata": {
  "kernelspec": {
   "display_name": "Python 3",
   "language": "python",
   "name": "python3"
  },
  "language_info": {
   "codemirror_mode": {
    "name": "ipython",
    "version": 3
   },
   "file_extension": ".py",
   "mimetype": "text/x-python",
   "name": "python",
   "nbconvert_exporter": "python",
   "pygments_lexer": "ipython3",
   "version": "3.10.11"
  }
 },
 "nbformat": 4,
 "nbformat_minor": 4
}
