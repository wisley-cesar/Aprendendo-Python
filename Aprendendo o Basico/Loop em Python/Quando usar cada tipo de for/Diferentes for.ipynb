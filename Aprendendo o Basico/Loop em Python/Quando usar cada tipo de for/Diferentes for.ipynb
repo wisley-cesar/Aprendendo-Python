{
 "cells": [
  {
   "cell_type": "code",
   "execution_count": 1,
   "id": "f384c181",
   "metadata": {},
   "outputs": [],
   "source": [
    "produtos = [\"iphone\", \"ipad\", \"airpod\", \"macbook\"]\n",
    "precos = [7000, 10000, 2500, 14000]"
   ]
  },
  {
   "cell_type": "markdown",
   "id": "ed0a699c",
   "metadata": {},
   "source": [
    "### For item in lista"
   ]
  },
  {
   "cell_type": "code",
   "execution_count": 6,
   "id": "3053355f",
   "metadata": {},
   "outputs": [
    {
     "name": "stdout",
     "output_type": "stream",
     "text": [
      " O preco ficou R$ 7700.0\n",
      " O preco ficou R$ 11000.0\n",
      " O preco ficou R$ 2750.0\n",
      " O preco ficou R$ 15400.0\n"
     ]
    }
   ],
   "source": [
    "# preco com imposto\n",
    "for preco in precos:\n",
    "   print(f' O preco ficou R$ {preco * 1.1:.1f}')"
   ]
  },
  {
   "cell_type": "markdown",
   "id": "80aa8d07",
   "metadata": {},
   "source": [
    "### For i in range"
   ]
  },
  {
   "cell_type": "code",
   "execution_count": 10,
   "id": "74b8e12d",
   "metadata": {},
   "outputs": [
    {
     "name": "stdout",
     "output_type": "stream",
     "text": [
      "O produto iphone custa R$7000.\n",
      "O produto ipad custa R$10000.\n",
      "O produto airpod custa R$2500.\n",
      "O produto macbook custa R$14000.\n"
     ]
    }
   ],
   "source": [
    "# preco de cada produto\n",
    "for i in range(len(precos)): # para usar o range você precisa saber o tamanho da lista e para fazer isso usa o len \n",
    "    print(f'O produto {produtos[i]} custa R${precos[i]}.')\n"
   ]
  },
  {
   "cell_type": "markdown",
   "id": "ba0b37d3",
   "metadata": {},
   "source": [
    "### For item in lista com enumerate"
   ]
  },
  {
   "cell_type": "code",
   "execution_count": 13,
   "id": "38271545",
   "metadata": {},
   "outputs": [
    {
     "name": "stdout",
     "output_type": "stream",
     "text": [
      " Os novos preços dos produtos säo :\n",
      " O produto iphone ficou R$7700.0\n",
      " Os novos preços dos produtos säo :\n",
      " O produto ipad ficou R$11000.0\n",
      " Os novos preços dos produtos säo :\n",
      " O produto airpod ficou R$2750.0\n",
      " Os novos preços dos produtos säo :\n",
      " O produto macbook ficou R$15400.0\n"
     ]
    }
   ],
   "source": [
    "# preco de cada produto com imposto\n",
    "\n",
    "for i , preco in enumerate(precos):# aqui a gente usou o metódo enumerete que você coloca duas variaveis no for \n",
    "    print(f' Os novos preços dos produtos säo :\\n O produto {produtos[i]} ficou R${precos[i] *1.1:.1f}')\n"
   ]
  },
  {
   "cell_type": "code",
   "execution_count": null,
   "id": "827fc0d0",
   "metadata": {},
   "outputs": [],
   "source": []
  }
 ],
 "metadata": {
  "kernelspec": {
   "display_name": "Python 3 (ipykernel)",
   "language": "python",
   "name": "python3"
  },
  "language_info": {
   "codemirror_mode": {
    "name": "ipython",
    "version": 3
   },
   "file_extension": ".py",
   "mimetype": "text/x-python",
   "name": "python",
   "nbconvert_exporter": "python",
   "pygments_lexer": "ipython3",
   "version": "3.10.11"
  }
 },
 "nbformat": 4,
 "nbformat_minor": 5
}
