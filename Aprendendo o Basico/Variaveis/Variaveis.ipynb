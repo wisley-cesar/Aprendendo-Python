{
 "cells": [
  {
   "cell_type": "code",
   "execution_count": null,
   "metadata": {},
   "outputs": [],
   "source": []
  },
  {
   "cell_type": "code",
   "execution_count": 2,
   "metadata": {},
   "outputs": [
    {
     "name": "stdout",
     "output_type": "stream",
     "text": [
      "1500 wisley cesar 122.212\n"
     ]
    }
   ],
   "source": [
    "#apenas declarei algumas variaveis \n",
    "\n",
    "qtdde_vendas = 1500\n",
    "nome = \"wisley cesar\"\n",
    "cpf = 122.212\n",
    "print(  qtdde_vendas, nome, cpf)\n"
   ]
  },
  {
   "cell_type": "code",
   "execution_count": 11,
   "metadata": {},
   "outputs": [
    {
     "name": "stdout",
     "output_type": "stream",
     "text": [
      "A quantidade de pessoas são 123\n",
      "Seu nome é wuske\n",
      "Seu cpf é 213\n"
     ]
    }
   ],
   "source": [
    "qtd_pessoas = int(input(\"Insira a quantidade de pessoas que tem ai \"))\n",
    "nome_pesoa = input(\"Insira seu nome\")\n",
    "cpf = int(input(\"Insira seu cpf\"))\n",
    "\n",
    "print(\"A quantidade de pessoas são \" + str(qtd_pessoas) + \"\\nSeu nome é \" + (nome_pesoa) + \"\\nSeu cpf é \" + str(cpf) )\n",
    "\n"
   ]
  }
 ],
 "metadata": {
  "kernelspec": {
   "display_name": "Python 3",
   "language": "python",
   "name": "python3"
  },
  "language_info": {
   "codemirror_mode": {
    "name": "ipython",
    "version": 3
   },
   "file_extension": ".py",
   "mimetype": "text/x-python",
   "name": "python",
   "nbconvert_exporter": "python",
   "pygments_lexer": "ipython3",
   "version": "3.10.11"
  },
  "orig_nbformat": 4,
  "vscode": {
   "interpreter": {
    "hash": "63d2fd587fa4181fc5553af31df89262a8a4bc207f39d6f90a2c67455bc4c762"
   }
  }
 },
 "nbformat": 4,
 "nbformat_minor": 2
}
