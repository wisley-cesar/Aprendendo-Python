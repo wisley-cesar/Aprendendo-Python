{
 "cells": [
  {
   "cell_type": "markdown",
   "metadata": {},
   "source": [
    "# Métodos úteis em dicionários\n",
    "\n",
    "## items() dos dicionários\n",
    "\n",
    "### Estrutura:"
   ]
  },
  {
   "cell_type": "raw",
   "metadata": {},
   "source": [
    "itens_dicionario = dicionario.items()\n",
    "\n",
    "ou então:\n",
    "\n",
    "for item in dicionario.items()\n",
    "    cada item do dicionario em formato de tupla"
   ]
  },
  {
   "cell_type": "code",
   "execution_count": null,
   "metadata": {},
   "outputs": [],
   "source": [
    "vendas_tecnologia = {'notebook asus': 2540, 'iphone': 15000, 'samsung galaxy': 12000, 'tv samsung': 10000, 'ps5': 14300, 'tablet': 1720, 'notebook dell': 17000, 'ipad': 1000, 'tv philco': 2500, 'notebook hp': 1000}\n",
    "\n",
    "itens_dicionario = vendas_tecnologia.items() # esse aqui e metedo de tranformar um dicionario em listas o .items()\n",
    "print(itens_dicionario)\n",
    "\n",
    "for item in itens_dicionario:\n",
    "    print(item)"
   ]
  },
  {
   "cell_type": "code",
   "execution_count": null,
   "metadata": {},
   "outputs": [],
   "source": [
    "for produto, qtd in vendas_tecnologia.items(): \n",
    "    print(f'{ produto} tem { qtd} unidades')\n",
    "    "
   ]
  },
  {
   "cell_type": "markdown",
   "metadata": {},
   "source": [
    "- Quais produtos venderam mais de 5000 unidades?"
   ]
  },
  {
   "cell_type": "code",
   "execution_count": null,
   "metadata": {},
   "outputs": [],
   "source": [
    "#forma 1 -> usando apenas o dicionario e as chaves\n",
    "meta : 5000\n",
    "for chave in vendas_tecnologia:\n",
    "    if vendas_tecnologia[chave] > meta:\n",
    "        print(f'O produto {chave} vendeu {vendas_tecnologia[chave]} unidades')\n",
    "\n",
    "#forma 2 -> usando o dicionario.items()\n",
    "print('\\n')\n",
    "\n",
    "for produto, qtd in vendas_tecnologia.items():\n",
    "    if qtd > meta :\n",
    "        print(f'O produto {produto} vendeu {qtd} unidades')"
   ]
  },
  {
   "cell_type": "markdown",
   "metadata": {},
   "source": [
    "# Listas importantes a partir do Dicionário\n",
    "\n",
    "### Métodos importantes:\n",
    "\n",
    ".keys() -> uma \"lista\" com todas as chaves do dicionario\n",
    "\n",
    ".values() -> uma \"lista\" com todos os valores do dicionario\n",
    "\n",
    "Obs: Se o dicionario for modificado, automaticamente essas variáveis são modificadas, mesmo tendo sido criadas anteriormente"
   ]
  },
  {
   "cell_type": "code",
   "execution_count": null,
   "metadata": {},
   "outputs": [],
   "source": [
    "chaves = vendas_tecnologia.keys()\n",
    "valores = vendas_tecnologia.values()\n",
    "print(chaves)\n",
    "print(valores)"
   ]
  },
  {
   "cell_type": "code",
   "execution_count": null,
   "metadata": {},
   "outputs": [],
   "source": [
    "vendas_tecnologia['liraphone'] = 10\n",
    "print(chaves)\n",
    "print(valores)\n",
    "print(list(chaves))\n",
    "print(list(valores))"
   ]
  },
  {
   "cell_type": "markdown",
   "metadata": {},
   "source": [
    "### O for vai funcionar normal em dict_listas, porque não deixa de ser uma lista de itens que pode ser percorrida (iterable), mas o que aprendemos de lista não necessariamente se aplicam a essas dict_listas.\n",
    "\n",
    "Para transformar as dict_listas em listas normais, usamos a função list:\n",
    "\n",
    "- lista_chaves = list(dicionario.keys())"
   ]
  },
  {
   "cell_type": "markdown",
   "metadata": {},
   "source": [
    "- Pode ser útil caso a gente queira fazer alguma organização das chaves. Ex: Imprimir uma lista com os valores em ordem alfabética, de forma que todas as tvs fiquem juntas, todos os iphone/ipad também e assim vai:"
   ]
  },
  {
   "cell_type": "code",
   "execution_count": null,
   "metadata": {},
   "outputs": [],
   "source": [
    "for chave in vendas_tecnologia:\n",
    "     print('{}: {} unidades'.format(chave, vendas_tecnologia[chave]))\n",
    "print('-' * 40)\n",
    "\n",
    "#agora se quisermos organizar isso, fazemos:"
   ]
  }
 ],
 "metadata": {
  "kernelspec": {
   "display_name": "Python 3",
   "language": "python",
   "name": "python3"
  },
  "language_info": {
   "codemirror_mode": {
    "name": "ipython",
    "version": 3
   },
   "file_extension": ".py",
   "mimetype": "text/x-python",
   "name": "python",
   "nbconvert_exporter": "python",
   "pygments_lexer": "ipython3",
   "version": "3.11.4"
  }
 },
 "nbformat": 4,
 "nbformat_minor": 4
}
