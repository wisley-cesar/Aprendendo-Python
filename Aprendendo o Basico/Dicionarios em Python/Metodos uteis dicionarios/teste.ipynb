{
 "cells": [
  {
   "cell_type": "markdown",
   "metadata": {},
   "source": [
    "# Desafio proprio \n",
    "## Mostre qual foi o nome do item mais vendido e quantos ele vendeu.\n",
    "### dos dois jeitos\n",
    "### utilizando o .items()\n",
    "### utiliando o dicionario "
   ]
  },
  {
   "cell_type": "code",
   "execution_count": 7,
   "metadata": {},
   "outputs": [
    {
     "name": "stdout",
     "output_type": "stream",
     "text": [
      "O produto que mais vendeu foi o notebook dell vendendo 17000 unidades\n"
     ]
    }
   ],
   "source": [
    "\n",
    "vendas_tecnologia = {'notebook asus': 2540, 'iphone': 15000, 'samsung galaxy': 12000, 'tv samsung': 10000, 'ps5': 14300, 'tablet': 1720, 'notebook dell': 17000, 'ipad': 1000, 'tv philco': 2500, 'notebook hp': 1000}\n",
    "\n",
    "maior_venda = 0 \n",
    "produto_maior_venda = ''\n",
    "\n",
    "for produto, qtd_venda in vendas_tecnologia.items():# transformei em lista e coloquie cada varivel para cada item respectivamente \n",
    "    if qtd_venda > maior_venda:\n",
    "        maior_venda = qtd_venda\n",
    "        produto_maior_venda = produto\n",
    "\n",
    "print(f'O produto que mais vendeu foi o {produto_maior_venda} vendendo {maior_venda} unidades')\n"
   ]
  },
  {
   "cell_type": "code",
   "execution_count": 11,
   "metadata": {},
   "outputs": [
    {
     "name": "stdout",
     "output_type": "stream",
     "text": [
      "O item mais vendido foi notebook dell vendendo 17000\n"
     ]
    }
   ],
   "source": [
    "vendas_tecnologia = {'notebook asus': 2540, 'iphone': 15000, 'samsung galaxy': 12000, 'tv samsung': 10000, 'ps5': 14300, 'tablet': 1720, 'notebook dell': 17000, 'ipad': 1000, 'tv philco': 2500, 'notebook hp': 1000}\n",
    "\n",
    "mais_vendido = 0 # crie um variavel auxiliar para saber depois qual foi a maior venda \n",
    "nome_mais_vendido = '' # funciona do mesmo jeto só que para descobrir o nome\n",
    "\n",
    "for chave in vendas_tecnologia:\n",
    "    if vendas_tecnologia[chave] > mais_vendido:\n",
    "        mais_vendido = vendas_tecnologia[chave]\n",
    "        nome_mais_vendido = chave\n",
    "\n",
    "print(f'O item mais vendido foi {nome_mais_vendido} vendendo {mais_vendido}')\n",
    "\n"
   ]
  }
 ],
 "metadata": {
  "kernelspec": {
   "display_name": "Python 3",
   "language": "python",
   "name": "python3"
  },
  "language_info": {
   "codemirror_mode": {
    "name": "ipython",
    "version": 3
   },
   "file_extension": ".py",
   "mimetype": "text/x-python",
   "name": "python",
   "nbconvert_exporter": "python",
   "pygments_lexer": "ipython3",
   "version": "3.11.4"
  },
  "orig_nbformat": 4
 },
 "nbformat": 4,
 "nbformat_minor": 2
}
