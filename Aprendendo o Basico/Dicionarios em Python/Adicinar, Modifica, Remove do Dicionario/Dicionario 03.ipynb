{
 "cells": [
  {
   "cell_type": "markdown",
   "metadata": {},
   "source": [
    "# Adicionar, Remover e Modificar Itens no Dicionário\n",
    "\n",
    "### Estrutura:\n",
    "\n",
    "- Adicionar itens:"
   ]
  },
  {
   "cell_type": "raw",
   "metadata": {},
   "source": [
    "dicionario = {}\n",
    "\n",
    "dicionario[chave] = valor\n",
    "\n",
    "outra opção:\n",
    "\n",
    "dicionario.update({chave: valor, chave: valor})"
   ]
  },
  {
   "cell_type": "code",
   "execution_count": 27,
   "metadata": {},
   "outputs": [
    {
     "name": "stdout",
     "output_type": "stream",
     "text": [
      "{'janeiro': 100000, 'fevereiro': 120000, 'março': 90000}\n",
      "{'janeiro': 100000, 'fevereiro': 120000, 'março': 90000, 'abril': 88000}\n",
      "{'janeiro': 100000, 'fevereiro': 120000, 'março': 90000, 'abril': 88000, 'maio': 89000, 'junho': 120000}\n",
      "{'janeiro': 100000, 'fevereiro': 120000, 'março': 90000, 'abril': 88000, 'maio': 89000, 'junho': 120000}\n",
      "{'janeiro': 88000, 'fevereiro': 120000, 'março': 90000, 'abril': 88000, 'maio': 89000, 'junho': 120000}\n"
     ]
    }
   ],
   "source": [
    "lucro_1tri = {'janeiro': 100000, 'fevereiro': 120000, 'março': 90000}\n",
    "lucro_2tri = {'abril': 88000, 'maio': 89000, 'junho': 120000}\n",
    "print(lucro_1tri)\n",
    "#adicionando 1 item\n",
    "# nos dicionario existe dois metodos para adicionar itens\n",
    "lucro_1tri['abril'] = 88000 # O primeiro metodo é o colocando [o nome do item \"chave\"] = o valor desejado \n",
    "print(lucro_1tri)\n",
    "\n",
    "#adicionando vários itens ou um dicionário a outro\n",
    "lucro_1tri.update({'maio' : 89000, 'junho' : 120000}) # O segundo modo é utilizando o update para assim como mostra o exemplo \n",
    "print(lucro_1tri)\n",
    "\n",
    "# juntando os dois dicionario \n",
    "lucro_1tri.update(lucro_2tri) # para juntar os dois dicionario basta usar o update e o nome do dicionario que desseja atribuir\n",
    "print(lucro_1tri)\n",
    "#adicionando um item já existente (manualmente ou pelo update)\n",
    "#como vimos antes o dicionario nao pode ter duas chaves iguais, então o que aconteceria se tertarmos colocar uma chave que já exite??\n",
    "\n",
    "lucro_1tri['janeiro'] = 88000\n",
    "print(lucro_1tri)\n",
    "# ele vai basicamente alterar o valor, antes janeirao tinha 100000 depois que mudamos foi para 88000 \n"
   ]
  },
  {
   "cell_type": "markdown",
   "metadata": {},
   "source": [
    "- Modificar itens:\n",
    "\n",
    "Da mesma forma que adicionamos 1 valor, caso essa chave já exista o item é apenas modificado.\n",
    "\n",
    "dicionario[chave] = valor\n",
    "\n",
    "Vamos modificar o lucro de fevereiro:<br>\n",
    "(Lembrando: caso o item não exista, ele vai criar o item no dicionário)"
   ]
  },
  {
   "cell_type": "code",
   "execution_count": 28,
   "metadata": {},
   "outputs": [
    {
     "name": "stdout",
     "output_type": "stream",
     "text": [
      "{'janeiro': 88000, 'fevereiro': 85000, 'março': 90000, 'abril': 88000, 'maio': 89000, 'junho': 120000}\n"
     ]
    }
   ],
   "source": [
    "# vamos mudar o lucro de fevereiro \n",
    "lucro_fev = 85000\n",
    "lucro_1tri['fevereiro'] = lucro_fev\n",
    "print(lucro_1tri)\n",
    "# CUIDADO NA HORA DE MODIFICAR UM ITEM NO DICIONARIO POIS LEMBRE-SE QUE PARA ADCIONAR UM ITEM NO DICIONARIO E ALTERAR UM ITEM AMBOS SÃO DO MEMSMO JEITO\n",
    "# ENTÃO PODE ACONTECER DE VOCE SEM QUERER QUANDO FOR MODIFICAR ALGUMA COISA ACABAR ADICIONANDO O CONTRARIO TAMBEM VALE. "
   ]
  },
  {
   "cell_type": "markdown",
   "metadata": {},
   "source": [
    "- Remover itens:\n",
    "\n",
    "del dicionario[chave]\n",
    "\n",
    "ou então\n",
    "\n",
    "valor = dicionario.pop(chave)\n",
    "\n",
    "mas cuidado com:\n",
    "\n",
    "del dicionario<br>    ->    que é diferente de dicionario.clear()"
   ]
  },
  {
   "cell_type": "code",
   "execution_count": 33,
   "metadata": {},
   "outputs": [
    {
     "name": "stdout",
     "output_type": "stream",
     "text": [
      "{'janeiro': 88000, 'fevereiro': 85000, 'março': 90000, 'abril': 88000, 'maio': 89000}\n",
      "120000\n",
      "{'janeiro': 88000, 'fevereiro': 85000, 'março': 90000, 'abril': 88000, 'maio': 89000, 'junho': 120000}\n",
      "['João', 'Lira', 'Maria', 'Ana', 'Paula']\n",
      "['Lira', 'Maria', 'Ana', 'Paula']\n"
     ]
    }
   ],
   "source": [
    "#removendo o mês de junho\n",
    "# o primeiro jeito de remover um item do dicionario \n",
    "#del lucro_1tri['junho'] \n",
    "#print(lucro_1tri)\n",
    "\n",
    "#obs: o del também funciona para listas, caso queira usar\n",
    "lucro_junho = lucro_1tri.pop('junho')\n",
    "print (lucro_1tri)\n",
    "print(lucro_junho)\n",
    "\n",
    "lucro_1tri['junho'] = lucro_junho\n",
    "print(lucro_1tri)\n",
    "#del lista[i]\n",
    "funcionarios = ['João', 'Lira', 'Maria', 'Ana', 'Paula']\n",
    "print(funcionarios)\n",
    "# O del tambem funciona para lista \n",
    "del funcionarios[0] # Removemos o item de indece 0 na lista.\n",
    "print(funcionarios)"
   ]
  }
 ],
 "metadata": {
  "kernelspec": {
   "display_name": "Python 3",
   "language": "python",
   "name": "python3"
  },
  "language_info": {
   "codemirror_mode": {
    "name": "ipython",
    "version": 3
   },
   "file_extension": ".py",
   "mimetype": "text/x-python",
   "name": "python",
   "nbconvert_exporter": "python",
   "pygments_lexer": "ipython3",
   "version": "3.11.4"
  }
 },
 "nbformat": 4,
 "nbformat_minor": 4
}
