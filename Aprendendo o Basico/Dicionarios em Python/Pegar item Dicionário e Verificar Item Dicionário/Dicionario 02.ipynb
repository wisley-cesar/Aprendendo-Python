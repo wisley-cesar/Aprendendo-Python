{
 "cells": [
  {
   "cell_type": "markdown",
   "metadata": {},
   "source": [
    "# Não confie na ordem dos dicionários, use as chaves\n",
    "\n",
    "### Python Versões Antigas x Versões Novas\n",
    "\n",
    "- Dicionários eram \"sem ordem\". Atualmente tem ordem, mas o certo é usar as chaves\n",
    "- 2 formas de pegar um valor:\n",
    "    - dicionario[chave]\n",
    "    - .get(chave)"
   ]
  },
  {
   "cell_type": "code",
   "execution_count": 3,
   "metadata": {},
   "outputs": [],
   "source": [
    "mais_vendidos = {'tecnologia': 'iphone', 'refrigeracao': 'ar consul 12000 btu', 'livros': 'o alquimista', 'eletrodoméstico': 'geladeira', 'lazer': 'prancha surf'}\n",
    "\n",
    "vendas_tecnologia = {'iphone': 15000, 'samsung galaxy': 12000, 'tv samsung': 10000, 'ps5': 14300, 'tablet': 1720, 'ipad': 1000, 'tv philco': 2500, 'notebook hp': 1000, 'notebook dell': 17000, 'notebook asus': 2450}"
   ]
  },
  {
   "cell_type": "markdown",
   "metadata": {},
   "source": [
    "- Qual foi o item mais vendido nas categorias 'livros' e 'lazer'?\n",
    "- Quanto foi vendido de 'notebook asus' e de 'ipad'?"
   ]
  },
  {
   "cell_type": "code",
   "execution_count": 7,
   "metadata": {},
   "outputs": [
    {
     "name": "stdout",
     "output_type": "stream",
     "text": [
      "metodo 01 o alquimista\n",
      "metodo 02 o alquimista \n",
      "\n",
      "metodo 01 prancha surf\n",
      "metodo 02 prancha surf \n",
      "\n",
      "metodo 01 2450\n",
      "metodo 02 2450 \n",
      "\n",
      "metodo 01 1000\n",
      "metodo 02 1000 \n",
      "\n"
     ]
    }
   ],
   "source": [
    "# respondendo com a chave, igual a aula anterior\n",
    "livro1 = mais_vendidos['livros'] # Esse foi o jeito que vimos na última aula \n",
    "livro2 = mais_vendidos.get('livros') # Esse tbm é um jeito, funciona do msm jeito que o de cima você coloca a chave que ela vai retonar o valor \n",
    "print(f'metodo 01 {livro1}\\nmetodo 02 {livro2} \\n')\n",
    "\n",
    "lazer1 = mais_vendidos['lazer']\n",
    "lazer2 = mais_vendidos.get('lazer')\n",
    "print(f'metodo 01 {lazer1}\\nmetodo 02 {lazer2} \\n')\n",
    "\n",
    "notbook1 = vendas_tecnologia['notebook asus']\n",
    "notbook2 = vendas_tecnologia.get('notebook asus')\n",
    "print(f'metodo 01 {notbook1}\\nmetodo 02 {notbook2} \\n')\n",
    "\n",
    "ipad1 = vendas_tecnologia['ipad']\n",
    "ipad2 = vendas_tecnologia.get('ipad')\n",
    "print(f'metodo 01 {ipad1}\\nmetodo 02 {ipad2} \\n')\n",
    "\n"
   ]
  },
  {
   "cell_type": "markdown",
   "metadata": {},
   "source": [
    "### Verificar se item está no dicionário:\n",
    "\n",
    "- if\n",
    "- .get(chave) = None\n",
    "\n",
    "Se tentarmos procurar as vendas de \"copo\" na lista de vendas tecnologia, o que acontece?"
   ]
  },
  {
   "cell_type": "code",
   "execution_count": 22,
   "metadata": {},
   "outputs": [
    {
     "name": "stdout",
     "output_type": "stream",
     "text": [
      "não está\n",
      "Não está\n"
     ]
    }
   ],
   "source": [
    "if 'copo' in vendas_tecnologia:\n",
    "    print(vendas_tecnologia['copo'])\n",
    "else:\n",
    "    print('não está')\n",
    "\n",
    "if vendas_tecnologia.get('copo ') == None:\n",
    "    print('Não está')\n",
    "else:\n",
    "    print(vendas_tecnologia.get('copo'))"
   ]
  },
  {
   "cell_type": "code",
   "execution_count": 4,
   "metadata": {},
   "outputs": [
    {
     "name": "stdout",
     "output_type": "stream",
     "text": [
      "{'iphone': 15000, 'samsung galaxy': 12000, 'tv samsung': 10000, 'ps5': 14300, 'tablet': 1720, 'ipad': 1000, 'tv philco': 2500, 'notebook hp': 1000, 'notebook dell': 17000, 'notebook asus': 2450}\n"
     ]
    }
   ],
   "source": [
    "print(vendas_tecnologia)\n"
   ]
  }
 ],
 "metadata": {
  "kernelspec": {
   "display_name": "Python 3",
   "language": "python",
   "name": "python3"
  },
  "language_info": {
   "codemirror_mode": {
    "name": "ipython",
    "version": 3
   },
   "file_extension": ".py",
   "mimetype": "text/x-python",
   "name": "python",
   "nbconvert_exporter": "python",
   "pygments_lexer": "ipython3",
   "version": "3.11.4"
  }
 },
 "nbformat": 4,
 "nbformat_minor": 4
}
