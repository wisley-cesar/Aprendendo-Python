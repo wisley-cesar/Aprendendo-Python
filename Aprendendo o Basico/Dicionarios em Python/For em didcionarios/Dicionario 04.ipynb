{
 "cells": [
  {
   "cell_type": "markdown",
   "metadata": {},
   "source": [
    "# For nos Dicionarios\n",
    "\n",
    "### Estrutura:"
   ]
  },
  {
   "cell_type": "raw",
   "metadata": {},
   "source": [
    "for chave in dicionario:\n",
    "    faça alguma coisa"
   ]
  },
  {
   "cell_type": "code",
   "execution_count": 3,
   "metadata": {},
   "outputs": [
    {
     "name": "stdout",
     "output_type": "stream",
     "text": [
      "iphone : 15000 unidades\n",
      "samsung galaxy : 12000 unidades\n",
      "tv samsung : 10000 unidades\n",
      "ps5 : 14300 unidades\n",
      "tablet : 1720 unidades\n",
      "ipad : 1000 unidades\n",
      "tv philco : 2500 unidades\n",
      "notebook hp : 1000 unidades\n",
      "notebook dell : 17000 unidades\n",
      "notebook asus : 2450 unidades\n"
     ]
    }
   ],
   "source": [
    "vendas_tecnologia = {'iphone': 15000, 'samsung galaxy': 12000, 'tv samsung': 10000, 'ps5': 14300, 'tablet': 1720, 'ipad': 1000, 'tv philco': 2500, 'notebook hp': 1000, 'notebook dell': 17000, 'notebook asus': 2450}\n",
    "\n",
    "#demonstrando o for\n",
    "for chave in vendas_tecnologia: # a chave é o nome da varial, então cada item do dicionario quando o for percorrer vai ser um chave\n",
    "    print(f'{chave} : {vendas_tecnologia[chave]} unidades') # e pegamos cada chave e para mostra o valor de cada chave utilizamos\n",
    "                                                            # vendas_tecnologias[chave] do msm jeito que usamos para acessar um valor dentro de um dicionario \n"
   ]
  },
  {
   "cell_type": "markdown",
   "metadata": {},
   "source": [
    "- Qual o total de notebooks vendidos?"
   ]
  },
  {
   "cell_type": "code",
   "execution_count": 4,
   "metadata": {},
   "outputs": [
    {
     "name": "stdout",
     "output_type": "stream",
     "text": [
      "iphone\n",
      "samsung galaxy\n",
      "tv samsung\n",
      "ps5\n",
      "tablet\n",
      "ipad\n",
      "tv philco\n",
      "notebook hp\n",
      "notebook dell\n",
      "notebook asus\n",
      "Foram vendidos 20,450 unidades de notebooks\n"
     ]
    }
   ],
   "source": [
    "total_notebook = 0\n",
    "for chave in vendas_tecnologia: # um for normal como a gente tinha visto logo em cima \n",
    "    if 'notebook' in chave: # aqui que ta o pulo do gato, vamos verificar se a palavra notebook está contida na chave ou seja sé essa palavra está na chave\n",
    "        total_notebook += vendas_tecnologia[chave] # aqui só somamos cada valor das unidades vendidas\n",
    "\n",
    "print(f'Foram vendidos {total_notebook:,} unidades de notebooks')"
   ]
  }
 ],
 "metadata": {
  "kernelspec": {
   "display_name": "Python 3",
   "language": "python",
   "name": "python3"
  },
  "language_info": {
   "codemirror_mode": {
    "name": "ipython",
    "version": 3
   },
   "file_extension": ".py",
   "mimetype": "text/x-python",
   "name": "python",
   "nbconvert_exporter": "python",
   "pygments_lexer": "ipython3",
   "version": "3.11.4"
  }
 },
 "nbformat": 4,
 "nbformat_minor": 4
}
