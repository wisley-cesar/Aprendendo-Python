{
 "cells": [
  {
   "cell_type": "code",
   "execution_count": 1,
   "metadata": {},
   "outputs": [
    {
     "name": "stdout",
     "output_type": "stream",
     "text": [
      "O faturamento da loja foi de 1000 Reais.\n",
      "O custo da loja foi de 400 Reais.\n",
      "Assim o lucro da loja e 600 Reias.\n"
     ]
    }
   ],
   "source": [
    "#Usando o metodo formart \n",
    "\n",
    "faturamento = 1000\n",
    "custo = 400\n",
    "lucro = faturamento- custo\n",
    "print(\"O faturamento da loja foi de {} Reais.\\nO custo da loja foi de {} Reais.\\nAssim o lucro da loja e {} Reias.\".format(faturamento,custo,lucro))\n",
    "\n"
   ]
  },
  {
   "cell_type": "code",
   "execution_count": 3,
   "metadata": {},
   "outputs": [
    {
     "name": "stdout",
     "output_type": "stream",
     "text": [
      "O faturamento da loja foi de 1000 Reais. \n",
      "O cusro da loja foi de 400 Reias.\n",
      "Assim o lucro da loja e 600 Reias. \n"
     ]
    }
   ],
   "source": [
    "# Usando o f-string \n",
    "# Os dois fazem a msm coisa e ambos tem a msm velocida de processo entao fica ao seu criterio escolher qual usar\n",
    "#mas na minha opinao o f-string e mais intuitivo \n",
    "\n",
    "faturamento = 1000\n",
    "custo = 400\n",
    "lucro = faturamento- custo\n",
    "print(f\"O faturamento da loja foi de {faturamento} Reais. \\nO cusro da loja foi de {custo} Reias.\\nAssim o lucro da loja e {lucro} Reias. \")"
   ]
  },
  {
   "cell_type": "code",
   "execution_count": 4,
   "metadata": {},
   "outputs": [
    {
     "name": "stdout",
     "output_type": "stream",
     "text": [
      "O seu faturamento é 100, o seu custo foi de 10, logo o seu lucro foi de 90\n"
     ]
    }
   ],
   "source": [
    "faturameto = int(input('Insira seu faturamento '))\n",
    "custo = int(input(\"Isira seu custo\"))\n",
    "lucro = faturameto - custo\n",
    "\n",
    "print(f\"O seu faturamento é {faturameto}, o seu custo foi de {custo}, logo o seu lucro foi de {lucro}\")"
   ]
  }
 ],
 "metadata": {
  "kernelspec": {
   "display_name": "Python 3",
   "language": "python",
   "name": "python3"
  },
  "language_info": {
   "codemirror_mode": {
    "name": "ipython",
    "version": 3
   },
   "file_extension": ".py",
   "mimetype": "text/x-python",
   "name": "python",
   "nbconvert_exporter": "python",
   "pygments_lexer": "ipython3",
   "version": "3.10.11"
  },
  "orig_nbformat": 4,
  "vscode": {
   "interpreter": {
    "hash": "63d2fd587fa4181fc5553af31df89262a8a4bc207f39d6f90a2c67455bc4c762"
   }
  }
 },
 "nbformat": 4,
 "nbformat_minor": 2
}
