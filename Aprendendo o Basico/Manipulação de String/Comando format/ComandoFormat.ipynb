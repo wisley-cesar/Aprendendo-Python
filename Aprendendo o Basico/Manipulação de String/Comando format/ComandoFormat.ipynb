{
 "cells": [
  {
   "cell_type": "code",
   "execution_count": 4,
   "metadata": {},
   "outputs": [
    {
     "name": "stdout",
     "output_type": "stream",
     "text": [
      "O faturamento foi de 2000 Reais. O custo foi de 500 Reais. Assim o lucro e 1500 Reais.\n"
     ]
    }
   ],
   "source": [
    "faturameto = 2000\n",
    "custo = 500\n",
    "lucro  = faturameto - custo\n",
    "print('O faturamento foi de ' + str(faturameto) + ' Reais. ' + 'O custo foi de ' + str(custo) + ' Reais.' + ' Assim o lucro e ' + str(lucro) + ' Reais.')"
   ]
  },
  {
   "cell_type": "code",
   "execution_count": 7,
   "metadata": {},
   "outputs": [
    {
     "name": "stdout",
     "output_type": "stream",
     "text": [
      "O faturamento da loja foi de 2000 Reais. \n",
      "O custo da loja foi de 500 Reais. \n",
      "Assim o lucro da loja foi de 1500 Reias\n"
     ]
    }
   ],
   "source": [
    "#O com o .format nao precisa concatenar e nao precisa coloar a variavel e nem colocar ela em str\n",
    "#ele ja faz tudo direto e deixa o codigo mais facil de ler\n",
    "faturameto = 2000\n",
    "custo = 500\n",
    "lucro  = faturameto - custo\n",
    "print('O faturamento da loja foi de {} Reais. \\nO custo da loja foi de {} Reais. \\nAssim o lucro da loja foi de {} Reias'.format(faturameto, custo,lucro))"
   ]
  },
  {
   "cell_type": "code",
   "execution_count": 3,
   "metadata": {},
   "outputs": [
    {
     "name": "stdout",
     "output_type": "stream",
     "text": [
      "O seu faturamento foi de 32\n",
      "Seu custo foi de 12\n",
      "Seu lucro foi de 20\n"
     ]
    }
   ],
   "source": [
    "faturameto = 32\n",
    "custo = 12\n",
    "lucro = faturameto - custo\n",
    "print ('O seu faturamento foi de '+ str(faturameto) + \"\\nSeu custo foi de \" + str(custo) + \"\\nSeu lucro foi de \" + str(lucro))"
   ]
  },
  {
   "cell_type": "code",
   "execution_count": 4,
   "metadata": {},
   "outputs": [
    {
     "name": "stdout",
     "output_type": "stream",
     "text": [
      "O seu faturemento foi de 100 O seu custo foi de 10 Logo o seu lucro é 90\n"
     ]
    }
   ],
   "source": [
    "faturameto = int(input('Insira seu faturamento '))\n",
    "custo = int(input(\"Isira seu custo\"))\n",
    "lucro = faturameto - custo\n",
    "\n",
    "print('O seu faturemento foi de {} O seu custo foi de {} Logo o seu lucro é {}'.format(faturameto, custo, lucro))"
   ]
  },
  {
   "cell_type": "code",
   "execution_count": null,
   "metadata": {},
   "outputs": [],
   "source": []
  }
 ],
 "metadata": {
  "kernelspec": {
   "display_name": "Python 3",
   "language": "python",
   "name": "python3"
  },
  "language_info": {
   "codemirror_mode": {
    "name": "ipython",
    "version": 3
   },
   "file_extension": ".py",
   "mimetype": "text/x-python",
   "name": "python",
   "nbconvert_exporter": "python",
   "pygments_lexer": "ipython3",
   "version": "3.10.11"
  },
  "orig_nbformat": 4,
  "vscode": {
   "interpreter": {
    "hash": "63d2fd587fa4181fc5553af31df89262a8a4bc207f39d6f90a2c67455bc4c762"
   }
  }
 },
 "nbformat": 4,
 "nbformat_minor": 2
}
