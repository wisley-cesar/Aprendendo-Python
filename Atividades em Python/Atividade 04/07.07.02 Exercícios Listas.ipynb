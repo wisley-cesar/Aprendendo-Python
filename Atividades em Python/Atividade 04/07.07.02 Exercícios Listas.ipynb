{
 "cells": [
  {
   "cell_type": "markdown",
   "metadata": {},
   "source": [
    "# Exercícios\n",
    "\n",
    "## 1. Faturamento do Melhor e do Pior Mês do Ano\n",
    "\n",
    "Qual foi o valor de vendas do melhor mês do Ano?\n",
    "E valor do pior mês do ano?"
   ]
  },
  {
   "cell_type": "code",
   "execution_count": 93,
   "metadata": {},
   "outputs": [
    {
     "name": "stdout",
     "output_type": "stream",
     "text": [
      "O mês com melhor faturamento foi jan vendendo 49051 no mês \n",
      "ja o mês com pior faturamento foi o dez vendendo 9650 no mês\n"
     ]
    }
   ],
   "source": [
    "meses = ['jan', 'fev', 'mar', 'abr', 'mai', 'jun', 'jul', 'ago', 'set', 'out', 'nov', 'dez']\n",
    "vendas_1sem = [25000, 29000, 22200, 17750, 15870, 19900]\n",
    "vendas_2sem = [19850, 20120, 17540, 15555, 49051, 9650]\n",
    "vendas_ano = vendas_1sem + vendas_2sem\n",
    "\n",
    "posicao_do_maior = vendas_ano.index(valor_maximo)\n",
    "posicao_do_menor = vendas_ano.index(valor_minimo)\n",
    "valor_maximo = max(vendas_ano)\n",
    "valor_minimo = min(vendas_ano)\n",
    "\n",
    "print(f'O mês com melhor faturamento foi {meses[posicao_do_maior]} vendendo {valor_maximo} no mês \\nja o mês com pior faturamento foi o {meses[posicao_do_menor]} vendendo {valor_minimo} no mês')"
   ]
  },
  {
   "cell_type": "markdown",
   "metadata": {},
   "source": [
    "## 2. Continuação\n",
    "\n",
    "Agora relacione as duas listas para printar 'O melhor mês do ano foi {} com {} vendas' e o mesmo para o pior mês do ano.\n",
    "\n",
    "Calcule também o faturamento total do Ano e quanto que o melhor mês representou do faturamento total.\n",
    "\n",
    "Obs: Para o faturamento total, pode usar a função sum(lista) que soma todos os itens de uma lista"
   ]
  },
  {
   "cell_type": "code",
   "execution_count": 94,
   "metadata": {},
   "outputs": [
    {
     "name": "stdout",
     "output_type": "stream",
     "text": [
      "o valor total foi de R$ +261,486 e o melhor mês: jan ajudou com o valor de R$ +49,051\n",
      "\n",
      "O mês com melhor faturamento foi jan vendendo +49,051 no mês \n",
      "ja o mês com pior faturamento foi o dez vendendo +9,650 no mês\n",
      "O faturamento total foi de 18.8% \n"
     ]
    }
   ],
   "source": [
    "faturamento_total = sum(vendas_ano)\n",
    "\n",
    "print(f'o valor total foi de R$ {faturamento_total :+,} e o melhor mês: {meses[posicao_do_maior]} ajudou com o valor de R$ {valor_maximo:+,}\\n')\n",
    "\n",
    "print(f'O mês com melhor faturamento foi {meses[posicao_do_maior]} vendendo {valor_maximo :+,} no mês \\nja o mês com pior faturamento foi o {meses[posicao_do_menor]} vendendo {valor_minimo:+,} no mês')\n",
    "\n",
    "percentual = valor_maximo / faturamento_total\n",
    "\n",
    "print(f'O faturamento total foi de {percentual :.1%} ')"
   ]
  },
  {
   "cell_type": "markdown",
   "metadata": {},
   "source": [
    "## 3. Crie uma lista com o top 3 valores de vendas do ano (sem fazer \"no olho\")\n",
    "\n",
    "Dica: o método remove retira um item da lista."
   ]
  },
  {
   "cell_type": "code",
   "execution_count": 2,
   "metadata": {},
   "outputs": [
    {
     "name": "stdout",
     "output_type": "stream",
     "text": [
      "[49051, 29000, 25000]\n"
     ]
    }
   ],
   "source": [
    "meses = ['jan', 'fev', 'mar', 'abr', 'mai', 'jun', 'jul', 'ago', 'set', 'out', 'nov', 'dez']\n",
    "vendas_1sem = [25000, 29000, 22200, 17750, 15870, 19900]\n",
    "vendas_2sem = [19850, 20120, 17540, 15555, 49051, 9650]\n",
    "vendas_ano = vendas_1sem + vendas_2sem\n",
    "\n",
    "valor_maximo = max(vendas_ano)\n",
    "valor_minimo = min(vendas_ano)\n",
    "\n",
    "top3 = []\n",
    "\n",
    "top3.append(valor_maximo)\n",
    "vendas_ano.remove(valor_maximo)\n",
    "\n",
    "valor_maximo = max(vendas_ano)\n",
    "top3.append(valor_maximo)\n",
    "vendas_ano.remove(valor_maximo)\n",
    "\n",
    "valor_maximo = max(vendas_ano)\n",
    "top3.append(valor_maximo)\n",
    "\n",
    "print(top3)"
   ]
  },
  {
   "cell_type": "code",
   "execution_count": null,
   "metadata": {},
   "outputs": [],
   "source": []
  }
 ],
 "metadata": {
  "kernelspec": {
   "display_name": "Python 3",
   "language": "python",
   "name": "python3"
  },
  "language_info": {
   "codemirror_mode": {
    "name": "ipython",
    "version": 3
   },
   "file_extension": ".py",
   "mimetype": "text/x-python",
   "name": "python",
   "nbconvert_exporter": "python",
   "pygments_lexer": "ipython3",
   "version": "3.10.11"
  }
 },
 "nbformat": 4,
 "nbformat_minor": 4
}
