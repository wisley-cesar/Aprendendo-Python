{
 "cells": [
  {
   "cell_type": "markdown",
   "id": "2b04bbea",
   "metadata": {},
   "source": [
    "# Strings\n",
    "\n",
    "<span style=\"color: red;\"><b>Todos os exercícios são feitos partindo-se do pressuposto de que todas as entradas são dadas de forma correta. Casos limite não mencionados no enunciado não são abordados porque não fazem parte do exercício.</b></span>"
   ]
  },
  {
   "attachments": {},
   "cell_type": "markdown",
   "id": "5b1f33b9",
   "metadata": {},
   "source": [
    "#### 1. Tamanho de strings. Faça um programa que leia 2 strings e informe o conteúdo delas seguido do seu comprimento. Informe também se as duas strings possuem o mesmo comprimento e são iguais ou diferentes no conteúdo.\n",
    "<pre>\n",
    "Compara duas strings\n",
    "String 1: Brasil Hexa 2006\n",
    "String 2: Brasil! Hexa 2006!\n",
    "Tamanho de \"Brasil Hexa 2006\": 16 caracteres\n",
    "Tamanho de \"Brasil! Hexa 2006!\": 18 caracteres\n",
    "As duas strings são de tamanhos diferentes.\n",
    "As duas strings possuem conteúdo diferente.\n",
    "</pre>"
   ]
  },
  {
   "cell_type": "code",
   "execution_count": 31,
   "id": "c492b657",
   "metadata": {},
   "outputs": [
    {
     "name": "stdout",
     "output_type": "stream",
     "text": [
      "As Duas Strings 'wisley' , 'wisley' são do mesmo tamamho, ambas mede 6\n",
      "Possuem o mesmo conteúdo! 'wisley' , 'wisley'\n",
      "6\n",
      "6\n"
     ]
    }
   ],
   "source": [
    "frase = input(\"insira a String \")\n",
    "frase2 = input(\"insira a String\")\n",
    "\n",
    "if len(frase) == len(frase2):\n",
    "    print(f\"As Duas Strings '{frase}' , '{frase2}' são do mesmo tamamho, ambas mede {len(frase)}\")\n",
    "    if frase in frase2: \n",
    "        print(f\"Possuem o mesmo conteúdo! '{frase}' , '{frase2}'\")\n",
    "    else :\n",
    "        print(f\"Mas as duas strings '{frase}' , '{frase2}' possuem conteúdo diferente\")\n",
    "else: \n",
    "    print(f\"As Duas Strings são de tamanho diferentes, a primeira frase {frase} mede {len(frase)} caracteres e a seguna {frase2} mede {len(frase2)} caracteres\")\n",
    "    print(\"As duas strings possuem conteúdo diferente\")\n",
    "print(len(frase))\n",
    "print(len(frase2))\n"
   ]
  },
  {
   "cell_type": "markdown",
   "id": "c3068a53",
   "metadata": {},
   "source": [
    "#### 2. Valida e corrige número de telefone. Faça um programa que leia um número de telefone, e corrija o número no caso deste conter somente 7 dígitos, acrescentando o '3' na frente. O usuário pode informar o número com ou sem o traço separador.\n",
    "<pre>\n",
    "Valida e corrige número de telefone\n",
    "Telefone: 461-0133\n",
    "Telefone possui 7 dígitos. Vou acrescentar o digito três na frente.\n",
    "Telefone corrigido sem formatação: 34610133\n",
    "Telefone corrigido com formatação: 3461-0133\n",
    "</pre>"
   ]
  },
  {
   "cell_type": "code",
   "execution_count": 25,
   "id": "0308566d",
   "metadata": {},
   "outputs": [
    {
     "name": "stdout",
     "output_type": "stream",
     "text": [
      "Telefone possui 7 dígitos. Vou acrescentar o dígito 3 na frente . \n",
      "Telefone corrigido sem formatação: 31234567\n",
      "Telefone corrigido com formatação: 3123-4567\n"
     ]
    }
   ],
   "source": [
    "numero = input(\"Inisra seu numero de telefone por favor\")\n",
    "numero = numero.replace(\"-\",\"\")\n",
    "if len(numero) == 7 :\n",
    "    numero = \"3\" + numero\n",
    "    print(\"Telefone possui 7 dígitos. Vou acrescentar o dígito 3 na frente . \")\n",
    "    print(f\"Telefone corrigido sem formatação: {numero}\")\n",
    "    print(f\"Telefone corrigido com formatação: {numero[:4]}-{numero[4:]}\")\n",
    "else:\n",
    "    print(\"O celular não tem 7 digitos \")\n",
    "    "
   ]
  }
 ],
 "metadata": {
  "kernelspec": {
   "display_name": "Python 3 (ipykernel)",
   "language": "python",
   "name": "python3"
  },
  "language_info": {
   "codemirror_mode": {
    "name": "ipython",
    "version": 3
   },
   "file_extension": ".py",
   "mimetype": "text/x-python",
   "name": "python",
   "nbconvert_exporter": "python",
   "pygments_lexer": "ipython3",
   "version": "3.10.11"
  }
 },
 "nbformat": 4,
 "nbformat_minor": 5
}
