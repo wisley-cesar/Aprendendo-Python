{
 "cells": [
  {
   "cell_type": "markdown",
   "metadata": {},
   "source": [
    "# Exercícios\n",
    "\n",
    "## 1. Calculando % de uma lista\n",
    "\n",
    "Faremos algo parecido com \"filtrar\" uma lista. Mais pra frente no curso aprenderemos outras formas de fazer isso, mas com o nosso conhecimentoa atual já conseguimos resolver o desafio.\n",
    "\n",
    "Digamos que a gente tenha uma lista de vendedores e ao invés de saber todos os vendedores que bateram a meta, eu quero conseguir calcular o % de vendedores que bateram a meta. Ou seja, se temos 10 vendedores e 3 bateram a meta, temos 30% dos vendedores que bateram a meta."
   ]
  },
  {
   "cell_type": "code",
   "execution_count": null,
   "metadata": {},
   "outputs": [],
   "source": [
    "meta = 10000\n",
    "vendas = [\n",
    "    ['João', 15000],\n",
    "    ['Julia', 27000],\n",
    "    ['Marcus', 9900],\n",
    "    ['Maria', 3750],\n",
    "    ['Ana', 10300],\n",
    "    ['Alon', 7870],\n",
    "]\n",
    "#seu código aqui\n",
    "# vamos fazer do primeiro jeito \n",
    "# vamos criar uma lista auxiliar \n",
    "meta_venda_batida =[]\n",
    "nome_funcionario = []\n",
    "\n",
    "for i, venda in enumerate(vendas):\n",
    "        if venda[1]> meta:\n",
    "            meta_venda_batida.append(venda[1])\n",
    "            nome_funcionario.append(venda[0])\n",
    "            porcentagem_batida = len(meta_venda_batida)/ len(vendas)\n",
    "print(f'Foram {len(meta_venda_batida)} funcionario que bateram a meta o total de {porcentagem_batida:.0%} dos funcionarios.\\nOs funcionarios que bateram foi os {nome_funcionario}')\n"
   ]
  },
  {
   "cell_type": "code",
   "execution_count": 9,
   "metadata": {},
   "outputs": [
    {
     "name": "stdout",
     "output_type": "stream",
     "text": [
      "O funcionario(a) bateu a meta João\n",
      "O funcionario(a) bateu a meta Julia\n",
      "O funcionario(a) bateu a meta Ana\n",
      "Foram 3 funcionario que bateram a meta o total de 50% dos funcionarios.\n",
      "\n"
     ]
    }
   ],
   "source": [
    "# vamos resolver sem lista auxiliar\n",
    "meta = 10000\n",
    "vendas = [\n",
    "    ['João', 15000],\n",
    "    ['Julia', 27000],\n",
    "    ['Marcus', 9900],\n",
    "    ['Maria', 3750],\n",
    "    ['Ana', 10300],\n",
    "    ['Alon', 7870],\n",
    "]\n",
    "qtd_funcionario = 0\n",
    "for venda in vendas:\n",
    "    if venda[1] > meta:\n",
    "        qtd_funcionario += 1 \n",
    "        porcentagem_batida = qtd_funcionario / len(vendas)\n",
    "        print(f'O funcionario(a) bateu a meta {(venda[0])}')\n",
    "print(f'Foram {qtd_funcionario} funcionario que bateram a meta o total de {porcentagem_batida:.0%} dos funcionarios.\\n')\n"
   ]
  },
  {
   "cell_type": "markdown",
   "metadata": {},
   "source": [
    "- Vamos resolver de 2 formas:\n",
    "    1. Criando uma lista auxiliar apenas com os vendedores que bateram a meta\n",
    "    2. Fazendo o cálculo diretamente na lista que já temos"
   ]
  },
  {
   "cell_type": "markdown",
   "metadata": {},
   "source": [
    "## Para treinar uma estrutura parecida, crie um código para responder: quem foi o vendedor que mais vendeu?"
   ]
  },
  {
   "cell_type": "code",
   "execution_count": 40,
   "metadata": {},
   "outputs": [
    {
     "name": "stdout",
     "output_type": "stream",
     "text": [
      "O funcionario(a) que mais vendeu foi o (a) Julia vendendo o total de 27,000 vendas\n"
     ]
    }
   ],
   "source": [
    "#seu código aqui\n",
    "maior_valor = []\n",
    "funciorario = []\n",
    "for i, venda in enumerate(vendas):\n",
    "    if venda[1] > meta:\n",
    "        maior_valor.append(venda[1])\n",
    "        funciorario.append(venda[0])\n",
    "maior = max(maior_valor)\n",
    "posicao = maior_valor.index(maior)\n",
    "print(f'O funcionario(a) que mais vendeu foi o (a) {funciorario[posicao]} vendendo o total de {maior:,} vendas')"
   ]
  }
 ],
 "metadata": {
  "kernelspec": {
   "display_name": "Python 3",
   "language": "python",
   "name": "python3"
  },
  "language_info": {
   "codemirror_mode": {
    "name": "ipython",
    "version": 3
   },
   "file_extension": ".py",
   "mimetype": "text/x-python",
   "name": "python",
   "nbconvert_exporter": "python",
   "pygments_lexer": "ipython3",
   "version": "3.10.11"
  }
 },
 "nbformat": 4,
 "nbformat_minor": 4
}
