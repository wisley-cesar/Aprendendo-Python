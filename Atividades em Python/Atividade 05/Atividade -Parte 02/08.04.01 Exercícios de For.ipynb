{
 "cells": [
  {
   "cell_type": "markdown",
   "metadata": {},
   "source": [
    "# Exercícios\n",
    "\n",
    "## 1. Criando um Registro de Hóspedes\n",
    "\n",
    "Digamos que você está criando o sistema para registrar a chegada de hóspedes em um hotel. No hotel, os hóspedes podem ter quartos com 1, 2, 3 e 4 pessoas. Seu sistema deve conseguir:\n",
    "\n",
    "1. Identificar quantas pessoas o hóspede que acabou de chegar vai ter no quarto (perguntando por meio de input)\n",
    "2. De acordo com a quantidade de pessoas do hóspede, ele deve fazer um for para perguntar o cpf e o nome de cada pessoa, a fim de registrá-la no quarto (2 inputs para cada pessoa, 1 para o cpf e outro para o nome)\n",
    "3. O seu programa então deve gerar uma lista com todas as pessoas que ficarão no quarto em que cada item dessa lista é o nome da pessoa e o cpf da pessoa, assim:"
   ]
  },
  {
   "cell_type": "raw",
   "metadata": {},
   "source": [
    "quarto = [\n",
    "    ['João', 'cpf:00000000000'],\n",
    "    ['Julia', 'cpf:11111111111'],\n",
    "    ['Marcus', 'cpf:22222222222'],\n",
    "    ['Maria', 'cpf:\n",
    "    '],\n",
    "]"
   ]
  },
  {
   "cell_type": "markdown",
   "metadata": {},
   "source": [
    "- Para simplificar, não vamos nos preocupar com possibilidades de \"tentar colocar mais de 1 hóspede, digitar o cpf errado, etc. Nosso objetivo é treinar a criação de uma rotina de cadastro"
   ]
  },
  {
   "cell_type": "code",
   "execution_count": 2,
   "metadata": {},
   "outputs": [
    {
     "name": "stdout",
     "output_type": "stream",
     "text": [
      "São 1 Hóspedes\n",
      "São joa e o CPF:123\n",
      "[['joa', 'CPF:123']]\n"
     ]
    }
   ],
   "source": [
    "#seu código aqui\n",
    "qtd_Pessoas = int(input(\"Insira a quantidade de hóspede que ultilizara o quarto\"))\n",
    "print(f'São {qtd_Pessoas} Hóspedes')\n",
    "quarto = []\n",
    "for i in range(qtd_Pessoas) :\n",
    "    nome = input(\"Insira o seu nome \")\n",
    "    cpf = input(\"Insira o seu cpf\")\n",
    "    hospede = [nome,f\"CPF:{cpf}\"]\n",
    "    quarto.append(hospede)\n",
    "    print(f'São {hospede[0]} e o {hospede[1]}')\n",
    "\n",
    "print(quarto)\n"
   ]
  },
  {
   "cell_type": "markdown",
   "metadata": {},
   "source": [
    "## 2. Análise de Vendas\n",
    "\n",
    "Nesse exercício vamos fazer uma \"análise simples\" de atingimento de Meta.\n",
    "\n",
    "Temos uma lista com os vendedores e os valores de vendas e queremos identificar (printar) quais os vendedores que bateram a meta e qual foi o valor que eles venderam."
   ]
  },
  {
   "cell_type": "code",
   "execution_count": 48,
   "metadata": {},
   "outputs": [
    {
     "name": "stdout",
     "output_type": "stream",
     "text": [
      "Parabens João você bateu a meta 10000, você vendeu 15000\n",
      "Parabens Julia você bateu a meta 10000, você vendeu 27000\n",
      "Parabens Ana você bateu a meta 10000, você vendeu 10300\n"
     ]
    }
   ],
   "source": [
    "meta = 10000\n",
    "vendas = [\n",
    "    ['João', 15000],\n",
    "    ['Julia', 27000],\n",
    "    ['Marcus', 9900],\n",
    "    ['Maria', 3750],\n",
    "    ['Ana', 10300],\n",
    "    ['Alon', 7870],\n",
    "]\n",
    "#seu código aqui\n",
    "for i , venda in enumerate(vendas):\n",
    "    if venda[1] > meta: \n",
    "        print(f'Parabens {venda[0]} você bateu a meta {meta}, você vendeu {venda[1]}')"
   ]
  },
  {
   "cell_type": "markdown",
   "metadata": {},
   "source": [
    "## 3. Comparação com Ano Anterior\n",
    "\n",
    "Digamos que você está analisando as vendas de produtos de um ecommerce e quer identificar quais produtos tiveram no ano de 2020 mais vendas do que no ano de 2019, para reportar isso para a diretoria.\n",
    "\n",
    "Sua resposta pode ser um print de cada produto, qual foi a venda de 2019, a venda de 2020 e o % de crescimento de 2020 para 2019.\n",
    "\n",
    "Lembrando, para calcular o % de crescimento de um produto de um ano para o outro, podemos fazer: (vendas_produto2020/vendas_produto2019 - 1)\n",
    "\n",
    "Dica: lembre do enumerate, ele pode facilitar seu \"for\""
   ]
  },
  {
   "cell_type": "code",
   "execution_count": 2,
   "metadata": {},
   "outputs": [
    {
     "name": "stdout",
     "output_type": "stream",
     "text": [
      "\n",
      "O iphone vendeu mais em 2020 vendendo 951,642. Em 2019 vendeu apenas 558,147. A porcetagem de acresimo foi de 70.5%\n",
      "O galaxy vendeu mais em 2019 vendendo 712,350. Em 2020 vendeu apenas 244,295. Não tivemos acresimo em vendas \n",
      "O ipad vendeu mais em 2019 vendendo 573,823. Em 2020 vendeu apenas 26,964. Não tivemos acresimo em vendas \n",
      "\n",
      "O tv vendeu mais em 2020 vendendo 787,604. Em 2019 vendeu apenas 405,252. A porcetagem de acresimo foi de 94.3%\n",
      "\n",
      "O máquina de café vendeu mais em 2020 vendendo 867,660. Em 2019 vendeu apenas 718,654. A porcetagem de acresimo foi de 20.7%\n",
      "O kindle vendeu mais em 2019 vendendo 531,580. Em 2020 vendeu apenas 78,830. Não tivemos acresimo em vendas \n",
      "O geladeira vendeu mais em 2019 vendendo 973,139. Em 2020 vendeu apenas 710,331. Não tivemos acresimo em vendas \n",
      "O adega vendeu mais em 2019 vendendo 892,292. Em 2020 vendeu apenas 646,016. Não tivemos acresimo em vendas \n",
      "\n",
      "O notebook dell vendeu mais em 2020 vendendo 694,913. Em 2019 vendeu apenas 422,760. A porcetagem de acresimo foi de 64.4%\n",
      "\n",
      "O notebook hp vendeu mais em 2020 vendendo 539,704. Em 2019 vendeu apenas 154,753. A porcetagem de acresimo foi de 248.8%\n",
      "O notebook asus vendeu mais em 2019 vendendo 887,061. Em 2020 vendeu apenas 324,831. Não tivemos acresimo em vendas \n",
      "\n",
      "O microsoft surface vendeu mais em 2020 vendendo 667,179. Em 2019 vendeu apenas 438,508. A porcetagem de acresimo foi de 52.1%\n",
      "\n",
      "O webcam vendeu mais em 2020 vendendo 295,633. Em 2019 vendeu apenas 237,467. A porcetagem de acresimo foi de 24.5%\n",
      "\n",
      "O caixa de som vendeu mais em 2020 vendendo 725,316. Em 2019 vendeu apenas 489,705. A porcetagem de acresimo foi de 48.1%\n",
      "\n",
      "O microfone vendeu mais em 2020 vendendo 644,622. Em 2019 vendeu apenas 328,311. A porcetagem de acresimo foi de 96.3%\n",
      "\n",
      "O câmera canon vendeu mais em 2020 vendendo 994,303. Em 2019 vendeu apenas 591,120. A porcetagem de acresimo foi de 68.2%\n"
     ]
    }
   ],
   "source": [
    "produtos = ['iphone', 'galaxy', 'ipad', 'tv', 'máquina de café', 'kindle', 'geladeira', 'adega', 'notebook dell', 'notebook hp', 'notebook asus', 'microsoft surface', 'webcam', 'caixa de som', 'microfone', 'câmera canon']\n",
    "vendas2019 = [558147,712350,573823,405252,718654,531580,973139,892292,422760,154753,887061,438508,237467,489705,328311,591120]\n",
    "vendas2020 = [951642,244295,26964,787604,867660,78830,710331,646016,694913,539704,324831,667179,295633,725316,644622,994303]\n",
    "#seu código aqui\n",
    "\n",
    "for i , venda2019  in enumerate(vendas2019):\n",
    "    if vendas2019[i] > vendas2020[i]:\n",
    "        print(f'O {produtos[i]} vendeu mais em 2019 vendendo {vendas2019[i]:,}. Em 2020 vendeu apenas {vendas2020[i]:,}. Não tivemos acresimo em vendas ')\n",
    "    else:\n",
    "        print(f'\\nO {produtos[i]} vendeu mais em 2020 vendendo {vendas2020[i]:,}. Em 2019 vendeu apenas {vendas2019[i]:,}. A porcetagem de acresimo foi de {(vendas2020[i]/ vendas2019[i])-1:.1%}')\n"
   ]
  },
  {
   "cell_type": "code",
   "execution_count": null,
   "metadata": {},
   "outputs": [],
   "source": []
  }
 ],
 "metadata": {
  "kernelspec": {
   "display_name": "Python 3",
   "language": "python",
   "name": "python3"
  },
  "language_info": {
   "codemirror_mode": {
    "name": "ipython",
    "version": 3
   },
   "file_extension": ".py",
   "mimetype": "text/x-python",
   "name": "python",
   "nbconvert_exporter": "python",
   "pygments_lexer": "ipython3",
   "version": "3.11.4"
  }
 },
 "nbformat": 4,
 "nbformat_minor": 4
}
